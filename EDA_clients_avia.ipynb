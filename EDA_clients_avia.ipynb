{
 "cells": [
  {
   "cell_type": "markdown",
   "metadata": {
    "id": "d04VdHY7jUnn"
   },
   "source": [
    "# Клиенты авиакомпании"
   ]
  },
  {
   "cell_type": "markdown",
   "metadata": {
    "id": "DxMCeYxukBKi"
   },
   "source": [
    "Датасет содержит информацию о клиентах некоторой авиакомпании"
   ]
  },
  {
   "cell_type": "markdown",
   "metadata": {
    "id": "lhA1Am55jZ3D"
   },
   "source": [
    "## Импорт библиотек, константы"
   ]
  },
  {
   "cell_type": "code",
   "execution_count": 1,
   "metadata": {
    "id": "HV1hv_cBi-zx"
   },
   "outputs": [],
   "source": [
    "import numpy as np\n",
    "import pandas as pd\n",
    "import seaborn as sns\n",
    "import matplotlib.pyplot as plt"
   ]
  },
  {
   "cell_type": "code",
   "execution_count": 2,
   "metadata": {
    "id": "IfM0ZXowjluS"
   },
   "outputs": [],
   "source": [
    "RANDOM_STATE = 42"
   ]
  },
  {
   "cell_type": "code",
   "execution_count": 3,
   "metadata": {
    "id": "otQxpwuxjoBA"
   },
   "outputs": [],
   "source": [
    "DATASET_PATH = \"https://raw.githubusercontent.com/evgpat/edu_stepik_from_idea_to_mvp/main/datasets/clients.csv\""
   ]
  },
  {
   "cell_type": "markdown",
   "metadata": {
    "id": "Fp7HfNokjzdr"
   },
   "source": [
    "## Загрузка и обзор данных"
   ]
  },
  {
   "cell_type": "markdown",
   "metadata": {
    "id": "voBVih6bkqoP"
   },
   "source": [
    "### Загрузка"
   ]
  },
  {
   "cell_type": "code",
   "execution_count": 4,
   "metadata": {
    "id": "akRLgc55jyGl"
   },
   "outputs": [],
   "source": [
    "# загрузка данных\n",
    "df = pd.read_csv(DATASET_PATH)"
   ]
  },
  {
   "cell_type": "markdown",
   "metadata": {
    "id": "mNHZ_G-tkb1e"
   },
   "source": [
    "### Описание данных"
   ]
  },
  {
   "cell_type": "markdown",
   "metadata": {
    "id": "3FxkHi2QkEPV"
   },
   "source": [
    "**Целевая переменная**\n",
    "- satisfaction (удовлетворенность клиента полетом), бинарная (satisfied или neutral or dissatisfied)\n",
    "\n",
    "**Признаки**\n",
    "- Gender (categorical: Male или Female): пол клиента\n",
    "- Age (numeric, int): количество полных лет\n",
    "- Customer Type (categorical: Loyal Customer или disloyal Customer): лоялен ли клиент авиакомпании?\n",
    "- Type of Travel (categorical: Business travel или Personal Travel): тип поездки\n",
    "- Class (categorical: Business или Eco, или Eco Plus): класс обслуживания в самолете\n",
    "- Flight Distance (numeric, int): дальность перелета (в милях)\n",
    "- Departure Delay in Minutes (numeric, int): задержка отправления (неотрицательная)\n",
    "- Arrival Delay in Minutes (numeric, int): задержка прибытия (неотрицательная)\n",
    "\n",
    "Признаки, перечисленные ниже, являются числовыми. По смыслу они категориальные: клиент ставил оценку от 1-го до 5-ти включительно. Есть выбросы!\n",
    "\n",
    "- Inflight wifi service (categorical, int): оценка клиентом интернета на борту\n",
    "- Departure/Arrival time convenient (categorical, int): оценка клиентом удобство времени прилета и вылета\n",
    "- Ease of Online booking (categorical, int): оценка клиентом удобства онлайн-бронирования\n",
    "- Gate location (categorical, int): оценка клиентом расположения выхода на посадку в аэропорту\n",
    "- Food and drink (categorical, int): оценка клиентом еды и напитков на борту\n",
    "- Online boarding (categorical, int): оценка клиентом выбора места в самолете\n",
    "- Seat comfort (categorical, int): оценка клиентом удобства сиденья\n",
    "- Inflight entertainment (categorical, int): оценка клиентом развлечений на борту\n",
    "- On-board service (categorical, int): оценка клиентом обслуживания на борту\n",
    "- Leg room service (categorical, int): оценка клиентом места в ногах на борту\n",
    "- Baggage handling (categorical, int): оценка клиентом обращения с багажом\n",
    "- Checkin service (categorical, int): оценка клиентом регистрации на рейс\n",
    "- Inflight service (categorical, int): оценка клиентом обслуживания на борту\n",
    "- Cleanliness (categorical, int): оценка клиентом чистоты на борту"
   ]
  },
  {
   "cell_type": "code",
   "execution_count": 5,
   "metadata": {
    "colab": {
     "base_uri": "https://localhost:8080/"
    },
    "id": "VterO9sXkWTi",
    "outputId": "f4ff716d-c970-46fe-b53d-c97a1fb998bf"
   },
   "outputs": [
    {
     "data": {
      "text/plain": [
       "(129880, 24)"
      ]
     },
     "execution_count": 5,
     "metadata": {},
     "output_type": "execute_result"
    }
   ],
   "source": [
    "df.shape"
   ]
  },
  {
   "cell_type": "code",
   "execution_count": 6,
   "metadata": {
    "colab": {
     "base_uri": "https://localhost:8080/"
    },
    "id": "VterO9sXkWTi",
    "outputId": "f4ff716d-c970-46fe-b53d-c97a1fb998bf"
   },
   "outputs": [
    {
     "name": "stdout",
     "output_type": "stream",
     "text": [
      "<class 'pandas.core.frame.DataFrame'>\n",
      "RangeIndex: 129880 entries, 0 to 129879\n",
      "Data columns (total 24 columns):\n",
      " #   Column                             Non-Null Count   Dtype  \n",
      "---  ------                             --------------   -----  \n",
      " 0   id                                 129880 non-null  int64  \n",
      " 1   Gender                             129549 non-null  object \n",
      " 2   Age                                129564 non-null  float64\n",
      " 3   Customer Type                      129803 non-null  object \n",
      " 4   Type of Travel                     129779 non-null  object \n",
      " 5   Class                              129764 non-null  object \n",
      " 6   Flight Distance                    129786 non-null  float64\n",
      " 7   Departure Delay in Minutes         129773 non-null  float64\n",
      " 8   Arrival Delay in Minutes           129371 non-null  float64\n",
      " 9   Inflight wifi service              129835 non-null  float64\n",
      " 10  Departure/Arrival time convenient  129831 non-null  float64\n",
      " 11  Ease of Online booking             129837 non-null  float64\n",
      " 12  Gate location                      129842 non-null  float64\n",
      " 13  Food and drink                     129830 non-null  float64\n",
      " 14  Online boarding                    129834 non-null  float64\n",
      " 15  Seat comfort                       129832 non-null  float64\n",
      " 16  Inflight entertainment             129833 non-null  float64\n",
      " 17  On-board service                   129836 non-null  float64\n",
      " 18  Leg room service                   129834 non-null  float64\n",
      " 19  Baggage handling                   129832 non-null  float64\n",
      " 20  Checkin service                    129838 non-null  float64\n",
      " 21  Inflight service                   129817 non-null  float64\n",
      " 22  Cleanliness                        129843 non-null  float64\n",
      " 23  satisfaction                       129880 non-null  object \n",
      "dtypes: float64(18), int64(1), object(5)\n",
      "memory usage: 23.8+ MB\n"
     ]
    }
   ],
   "source": [
    "df.info()"
   ]
  },
  {
   "cell_type": "code",
   "execution_count": 7,
   "metadata": {
    "colab": {
     "base_uri": "https://localhost:8080/",
     "height": 143
    },
    "id": "RsDeQvZXmVpW",
    "outputId": "42944e20-e46b-440c-9b74-475cef5332f8"
   },
   "outputs": [
    {
     "data": {
      "text/html": [
       "<div>\n",
       "<style scoped>\n",
       "    .dataframe tbody tr th:only-of-type {\n",
       "        vertical-align: middle;\n",
       "    }\n",
       "\n",
       "    .dataframe tbody tr th {\n",
       "        vertical-align: top;\n",
       "    }\n",
       "\n",
       "    .dataframe thead th {\n",
       "        text-align: right;\n",
       "    }\n",
       "</style>\n",
       "<table border=\"1\" class=\"dataframe\">\n",
       "  <thead>\n",
       "    <tr style=\"text-align: right;\">\n",
       "      <th></th>\n",
       "      <th>id</th>\n",
       "      <th>Gender</th>\n",
       "      <th>Age</th>\n",
       "      <th>Customer Type</th>\n",
       "      <th>Type of Travel</th>\n",
       "      <th>Class</th>\n",
       "      <th>Flight Distance</th>\n",
       "      <th>Departure Delay in Minutes</th>\n",
       "      <th>Arrival Delay in Minutes</th>\n",
       "      <th>Inflight wifi service</th>\n",
       "      <th>...</th>\n",
       "      <th>Online boarding</th>\n",
       "      <th>Seat comfort</th>\n",
       "      <th>Inflight entertainment</th>\n",
       "      <th>On-board service</th>\n",
       "      <th>Leg room service</th>\n",
       "      <th>Baggage handling</th>\n",
       "      <th>Checkin service</th>\n",
       "      <th>Inflight service</th>\n",
       "      <th>Cleanliness</th>\n",
       "      <th>satisfaction</th>\n",
       "    </tr>\n",
       "  </thead>\n",
       "  <tbody>\n",
       "    <tr>\n",
       "      <th>86228</th>\n",
       "      <td>86229</td>\n",
       "      <td>Female</td>\n",
       "      <td>23.0</td>\n",
       "      <td>disloyal Customer</td>\n",
       "      <td>Business travel</td>\n",
       "      <td>Eco</td>\n",
       "      <td>356.0</td>\n",
       "      <td>0.0</td>\n",
       "      <td>0.0</td>\n",
       "      <td>4.0</td>\n",
       "      <td>...</td>\n",
       "      <td>4.0</td>\n",
       "      <td>2.0</td>\n",
       "      <td>4.0</td>\n",
       "      <td>4.0</td>\n",
       "      <td>2.0</td>\n",
       "      <td>5.0</td>\n",
       "      <td>4.0</td>\n",
       "      <td>3.0</td>\n",
       "      <td>4.0</td>\n",
       "      <td>satisfied</td>\n",
       "    </tr>\n",
       "    <tr>\n",
       "      <th>61381</th>\n",
       "      <td>61382</td>\n",
       "      <td>Male</td>\n",
       "      <td>53.0</td>\n",
       "      <td>Loyal Customer</td>\n",
       "      <td>Business travel</td>\n",
       "      <td>Business</td>\n",
       "      <td>679.0</td>\n",
       "      <td>0.0</td>\n",
       "      <td>0.0</td>\n",
       "      <td>3.0</td>\n",
       "      <td>...</td>\n",
       "      <td>3.0</td>\n",
       "      <td>3.0</td>\n",
       "      <td>3.0</td>\n",
       "      <td>3.0</td>\n",
       "      <td>3.0</td>\n",
       "      <td>3.0</td>\n",
       "      <td>1.0</td>\n",
       "      <td>3.0</td>\n",
       "      <td>2.0</td>\n",
       "      <td>neutral or dissatisfied</td>\n",
       "    </tr>\n",
       "    <tr>\n",
       "      <th>124014</th>\n",
       "      <td>124015</td>\n",
       "      <td>Male</td>\n",
       "      <td>36.0</td>\n",
       "      <td>Loyal Customer</td>\n",
       "      <td>Business travel</td>\n",
       "      <td>Business</td>\n",
       "      <td>184.0</td>\n",
       "      <td>0.0</td>\n",
       "      <td>0.0</td>\n",
       "      <td>0.0</td>\n",
       "      <td>...</td>\n",
       "      <td>5.0</td>\n",
       "      <td>5.0</td>\n",
       "      <td>4.0</td>\n",
       "      <td>4.0</td>\n",
       "      <td>4.0</td>\n",
       "      <td>4.0</td>\n",
       "      <td>4.0</td>\n",
       "      <td>4.0</td>\n",
       "      <td>4.0</td>\n",
       "      <td>satisfied</td>\n",
       "    </tr>\n",
       "    <tr>\n",
       "      <th>48965</th>\n",
       "      <td>48966</td>\n",
       "      <td>Female</td>\n",
       "      <td>55.0</td>\n",
       "      <td>disloyal Customer</td>\n",
       "      <td>Business travel</td>\n",
       "      <td>Eco</td>\n",
       "      <td>109.0</td>\n",
       "      <td>0.0</td>\n",
       "      <td>0.0</td>\n",
       "      <td>3.0</td>\n",
       "      <td>...</td>\n",
       "      <td>2.0</td>\n",
       "      <td>3.0</td>\n",
       "      <td>4.0</td>\n",
       "      <td>5.0</td>\n",
       "      <td>1.0</td>\n",
       "      <td>3.0</td>\n",
       "      <td>5.0</td>\n",
       "      <td>4.0</td>\n",
       "      <td>4.0</td>\n",
       "      <td>neutral or dissatisfied</td>\n",
       "    </tr>\n",
       "    <tr>\n",
       "      <th>84235</th>\n",
       "      <td>84236</td>\n",
       "      <td>Male</td>\n",
       "      <td>7.0</td>\n",
       "      <td>Loyal Customer</td>\n",
       "      <td>Personal Travel</td>\n",
       "      <td>Eco</td>\n",
       "      <td>432.0</td>\n",
       "      <td>0.0</td>\n",
       "      <td>0.0</td>\n",
       "      <td>4.0</td>\n",
       "      <td>...</td>\n",
       "      <td>4.0</td>\n",
       "      <td>2.0</td>\n",
       "      <td>2.0</td>\n",
       "      <td>5.0</td>\n",
       "      <td>3.0</td>\n",
       "      <td>4.0</td>\n",
       "      <td>5.0</td>\n",
       "      <td>5.0</td>\n",
       "      <td>2.0</td>\n",
       "      <td>-</td>\n",
       "    </tr>\n",
       "  </tbody>\n",
       "</table>\n",
       "<p>5 rows × 24 columns</p>\n",
       "</div>"
      ],
      "text/plain": [
       "            id  Gender   Age      Customer Type   Type of Travel     Class  \\\n",
       "86228    86229  Female  23.0  disloyal Customer  Business travel       Eco   \n",
       "61381    61382    Male  53.0     Loyal Customer  Business travel  Business   \n",
       "124014  124015    Male  36.0     Loyal Customer  Business travel  Business   \n",
       "48965    48966  Female  55.0  disloyal Customer  Business travel       Eco   \n",
       "84235    84236    Male   7.0     Loyal Customer  Personal Travel       Eco   \n",
       "\n",
       "        Flight Distance  Departure Delay in Minutes  Arrival Delay in Minutes  \\\n",
       "86228             356.0                         0.0                       0.0   \n",
       "61381             679.0                         0.0                       0.0   \n",
       "124014            184.0                         0.0                       0.0   \n",
       "48965             109.0                         0.0                       0.0   \n",
       "84235             432.0                         0.0                       0.0   \n",
       "\n",
       "        Inflight wifi service  ...  Online boarding  Seat comfort  \\\n",
       "86228                     4.0  ...              4.0           2.0   \n",
       "61381                     3.0  ...              3.0           3.0   \n",
       "124014                    0.0  ...              5.0           5.0   \n",
       "48965                     3.0  ...              2.0           3.0   \n",
       "84235                     4.0  ...              4.0           2.0   \n",
       "\n",
       "        Inflight entertainment  On-board service  Leg room service  \\\n",
       "86228                      4.0               4.0               2.0   \n",
       "61381                      3.0               3.0               3.0   \n",
       "124014                     4.0               4.0               4.0   \n",
       "48965                      4.0               5.0               1.0   \n",
       "84235                      2.0               5.0               3.0   \n",
       "\n",
       "        Baggage handling  Checkin service  Inflight service  Cleanliness  \\\n",
       "86228                5.0              4.0               3.0          4.0   \n",
       "61381                3.0              1.0               3.0          2.0   \n",
       "124014               4.0              4.0               4.0          4.0   \n",
       "48965                3.0              5.0               4.0          4.0   \n",
       "84235                4.0              5.0               5.0          2.0   \n",
       "\n",
       "                   satisfaction  \n",
       "86228                 satisfied  \n",
       "61381   neutral or dissatisfied  \n",
       "124014                satisfied  \n",
       "48965   neutral or dissatisfied  \n",
       "84235                         -  \n",
       "\n",
       "[5 rows x 24 columns]"
      ]
     },
     "execution_count": 7,
     "metadata": {},
     "output_type": "execute_result"
    }
   ],
   "source": [
    "# случайные пять записей из датасета\n",
    "df.sample(5)"
   ]
  },
  {
   "cell_type": "code",
   "execution_count": 8,
   "metadata": {
    "colab": {
     "base_uri": "https://localhost:8080/",
     "height": 143
    },
    "id": "RsDeQvZXmVpW",
    "outputId": "42944e20-e46b-440c-9b74-475cef5332f8"
   },
   "outputs": [
    {
     "data": {
      "text/plain": [
       "(129880, 24)"
      ]
     },
     "execution_count": 8,
     "metadata": {},
     "output_type": "execute_result"
    }
   ],
   "source": [
    "df = df.drop_duplicates()  # дупликатов в таблице нет\n",
    "df.shape"
   ]
  },
  {
   "cell_type": "code",
   "execution_count": 9,
   "metadata": {},
   "outputs": [
    {
     "data": {
      "text/html": [
       "<div>\n",
       "<style scoped>\n",
       "    .dataframe tbody tr th:only-of-type {\n",
       "        vertical-align: middle;\n",
       "    }\n",
       "\n",
       "    .dataframe tbody tr th {\n",
       "        vertical-align: top;\n",
       "    }\n",
       "\n",
       "    .dataframe thead th {\n",
       "        text-align: right;\n",
       "    }\n",
       "</style>\n",
       "<table border=\"1\" class=\"dataframe\">\n",
       "  <thead>\n",
       "    <tr style=\"text-align: right;\">\n",
       "      <th></th>\n",
       "      <th>id</th>\n",
       "      <th>Gender</th>\n",
       "      <th>Age</th>\n",
       "      <th>Customer Type</th>\n",
       "      <th>Type of Travel</th>\n",
       "      <th>Class</th>\n",
       "      <th>Flight Distance</th>\n",
       "      <th>Departure Delay in Minutes</th>\n",
       "      <th>Arrival Delay in Minutes</th>\n",
       "      <th>Inflight wifi service</th>\n",
       "      <th>Departure/Arrival time convenient</th>\n",
       "      <th>Ease of Online booking</th>\n",
       "      <th>Gate location</th>\n",
       "      <th>Food and drink</th>\n",
       "      <th>Online boarding</th>\n",
       "      <th>Seat comfort</th>\n",
       "      <th>Inflight entertainment</th>\n",
       "      <th>On-board service</th>\n",
       "      <th>Leg room service</th>\n",
       "      <th>Baggage handling</th>\n",
       "      <th>Checkin service</th>\n",
       "      <th>Inflight service</th>\n",
       "      <th>Cleanliness</th>\n",
       "      <th>satisfaction</th>\n",
       "    </tr>\n",
       "  </thead>\n",
       "  <tbody>\n",
       "    <tr>\n",
       "      <th>count</th>\n",
       "      <td>129880.000000</td>\n",
       "      <td>129549</td>\n",
       "      <td>129564.000000</td>\n",
       "      <td>129803</td>\n",
       "      <td>129779</td>\n",
       "      <td>129764</td>\n",
       "      <td>129786.000000</td>\n",
       "      <td>129773.000000</td>\n",
       "      <td>129371.000000</td>\n",
       "      <td>129835.000000</td>\n",
       "      <td>129831.000000</td>\n",
       "      <td>129837.000000</td>\n",
       "      <td>129842.000000</td>\n",
       "      <td>129830.000000</td>\n",
       "      <td>129834.000000</td>\n",
       "      <td>129832.000000</td>\n",
       "      <td>129833.000000</td>\n",
       "      <td>129836.000000</td>\n",
       "      <td>129834.000000</td>\n",
       "      <td>129832.000000</td>\n",
       "      <td>129838.000000</td>\n",
       "      <td>129817.00000</td>\n",
       "      <td>129843.000000</td>\n",
       "      <td>129880</td>\n",
       "    </tr>\n",
       "    <tr>\n",
       "      <th>unique</th>\n",
       "      <td>NaN</td>\n",
       "      <td>2</td>\n",
       "      <td>NaN</td>\n",
       "      <td>2</td>\n",
       "      <td>2</td>\n",
       "      <td>3</td>\n",
       "      <td>NaN</td>\n",
       "      <td>NaN</td>\n",
       "      <td>NaN</td>\n",
       "      <td>NaN</td>\n",
       "      <td>NaN</td>\n",
       "      <td>NaN</td>\n",
       "      <td>NaN</td>\n",
       "      <td>NaN</td>\n",
       "      <td>NaN</td>\n",
       "      <td>NaN</td>\n",
       "      <td>NaN</td>\n",
       "      <td>NaN</td>\n",
       "      <td>NaN</td>\n",
       "      <td>NaN</td>\n",
       "      <td>NaN</td>\n",
       "      <td>NaN</td>\n",
       "      <td>NaN</td>\n",
       "      <td>3</td>\n",
       "    </tr>\n",
       "    <tr>\n",
       "      <th>top</th>\n",
       "      <td>NaN</td>\n",
       "      <td>Female</td>\n",
       "      <td>NaN</td>\n",
       "      <td>Loyal Customer</td>\n",
       "      <td>Business travel</td>\n",
       "      <td>Business</td>\n",
       "      <td>NaN</td>\n",
       "      <td>NaN</td>\n",
       "      <td>NaN</td>\n",
       "      <td>NaN</td>\n",
       "      <td>NaN</td>\n",
       "      <td>NaN</td>\n",
       "      <td>NaN</td>\n",
       "      <td>NaN</td>\n",
       "      <td>NaN</td>\n",
       "      <td>NaN</td>\n",
       "      <td>NaN</td>\n",
       "      <td>NaN</td>\n",
       "      <td>NaN</td>\n",
       "      <td>NaN</td>\n",
       "      <td>NaN</td>\n",
       "      <td>NaN</td>\n",
       "      <td>NaN</td>\n",
       "      <td>neutral or dissatisfied</td>\n",
       "    </tr>\n",
       "    <tr>\n",
       "      <th>freq</th>\n",
       "      <td>NaN</td>\n",
       "      <td>65726</td>\n",
       "      <td>NaN</td>\n",
       "      <td>106040</td>\n",
       "      <td>89625</td>\n",
       "      <td>62103</td>\n",
       "      <td>NaN</td>\n",
       "      <td>NaN</td>\n",
       "      <td>NaN</td>\n",
       "      <td>NaN</td>\n",
       "      <td>NaN</td>\n",
       "      <td>NaN</td>\n",
       "      <td>NaN</td>\n",
       "      <td>NaN</td>\n",
       "      <td>NaN</td>\n",
       "      <td>NaN</td>\n",
       "      <td>NaN</td>\n",
       "      <td>NaN</td>\n",
       "      <td>NaN</td>\n",
       "      <td>NaN</td>\n",
       "      <td>NaN</td>\n",
       "      <td>NaN</td>\n",
       "      <td>NaN</td>\n",
       "      <td>58879</td>\n",
       "    </tr>\n",
       "    <tr>\n",
       "      <th>mean</th>\n",
       "      <td>64940.500000</td>\n",
       "      <td>NaN</td>\n",
       "      <td>40.113951</td>\n",
       "      <td>NaN</td>\n",
       "      <td>NaN</td>\n",
       "      <td>NaN</td>\n",
       "      <td>1323.385804</td>\n",
       "      <td>15.811301</td>\n",
       "      <td>16.651406</td>\n",
       "      <td>2.732183</td>\n",
       "      <td>3.061857</td>\n",
       "      <td>2.760523</td>\n",
       "      <td>2.981424</td>\n",
       "      <td>3.208349</td>\n",
       "      <td>3.256674</td>\n",
       "      <td>3.445691</td>\n",
       "      <td>3.361395</td>\n",
       "      <td>3.387181</td>\n",
       "      <td>3.356101</td>\n",
       "      <td>3.636107</td>\n",
       "      <td>3.310056</td>\n",
       "      <td>3.64718</td>\n",
       "      <td>3.289865</td>\n",
       "      <td>NaN</td>\n",
       "    </tr>\n",
       "    <tr>\n",
       "      <th>std</th>\n",
       "      <td>37493.270818</td>\n",
       "      <td>NaN</td>\n",
       "      <td>20.365190</td>\n",
       "      <td>NaN</td>\n",
       "      <td>NaN</td>\n",
       "      <td>NaN</td>\n",
       "      <td>4516.191530</td>\n",
       "      <td>93.206139</td>\n",
       "      <td>109.167328</td>\n",
       "      <td>1.359786</td>\n",
       "      <td>1.559323</td>\n",
       "      <td>1.430800</td>\n",
       "      <td>1.312628</td>\n",
       "      <td>1.357649</td>\n",
       "      <td>1.381889</td>\n",
       "      <td>1.349732</td>\n",
       "      <td>1.366866</td>\n",
       "      <td>1.335540</td>\n",
       "      <td>1.361633</td>\n",
       "      <td>1.221818</td>\n",
       "      <td>1.298626</td>\n",
       "      <td>1.21837</td>\n",
       "      <td>1.347625</td>\n",
       "      <td>NaN</td>\n",
       "    </tr>\n",
       "    <tr>\n",
       "      <th>min</th>\n",
       "      <td>1.000000</td>\n",
       "      <td>NaN</td>\n",
       "      <td>0.000000</td>\n",
       "      <td>NaN</td>\n",
       "      <td>NaN</td>\n",
       "      <td>NaN</td>\n",
       "      <td>0.000000</td>\n",
       "      <td>0.000000</td>\n",
       "      <td>0.000000</td>\n",
       "      <td>0.000000</td>\n",
       "      <td>0.000000</td>\n",
       "      <td>0.000000</td>\n",
       "      <td>0.000000</td>\n",
       "      <td>0.000000</td>\n",
       "      <td>0.000000</td>\n",
       "      <td>0.000000</td>\n",
       "      <td>0.000000</td>\n",
       "      <td>0.000000</td>\n",
       "      <td>0.000000</td>\n",
       "      <td>0.000000</td>\n",
       "      <td>0.000000</td>\n",
       "      <td>0.00000</td>\n",
       "      <td>0.000000</td>\n",
       "      <td>NaN</td>\n",
       "    </tr>\n",
       "    <tr>\n",
       "      <th>25%</th>\n",
       "      <td>32470.750000</td>\n",
       "      <td>NaN</td>\n",
       "      <td>27.000000</td>\n",
       "      <td>NaN</td>\n",
       "      <td>NaN</td>\n",
       "      <td>NaN</td>\n",
       "      <td>414.000000</td>\n",
       "      <td>0.000000</td>\n",
       "      <td>0.000000</td>\n",
       "      <td>2.000000</td>\n",
       "      <td>2.000000</td>\n",
       "      <td>2.000000</td>\n",
       "      <td>2.000000</td>\n",
       "      <td>2.000000</td>\n",
       "      <td>2.000000</td>\n",
       "      <td>2.000000</td>\n",
       "      <td>2.000000</td>\n",
       "      <td>2.000000</td>\n",
       "      <td>2.000000</td>\n",
       "      <td>3.000000</td>\n",
       "      <td>3.000000</td>\n",
       "      <td>3.00000</td>\n",
       "      <td>2.000000</td>\n",
       "      <td>NaN</td>\n",
       "    </tr>\n",
       "    <tr>\n",
       "      <th>50%</th>\n",
       "      <td>64940.500000</td>\n",
       "      <td>NaN</td>\n",
       "      <td>40.000000</td>\n",
       "      <td>NaN</td>\n",
       "      <td>NaN</td>\n",
       "      <td>NaN</td>\n",
       "      <td>846.000000</td>\n",
       "      <td>0.000000</td>\n",
       "      <td>0.000000</td>\n",
       "      <td>3.000000</td>\n",
       "      <td>3.000000</td>\n",
       "      <td>3.000000</td>\n",
       "      <td>3.000000</td>\n",
       "      <td>3.000000</td>\n",
       "      <td>3.000000</td>\n",
       "      <td>4.000000</td>\n",
       "      <td>4.000000</td>\n",
       "      <td>4.000000</td>\n",
       "      <td>4.000000</td>\n",
       "      <td>4.000000</td>\n",
       "      <td>3.000000</td>\n",
       "      <td>4.00000</td>\n",
       "      <td>3.000000</td>\n",
       "      <td>NaN</td>\n",
       "    </tr>\n",
       "    <tr>\n",
       "      <th>75%</th>\n",
       "      <td>97410.250000</td>\n",
       "      <td>NaN</td>\n",
       "      <td>51.000000</td>\n",
       "      <td>NaN</td>\n",
       "      <td>NaN</td>\n",
       "      <td>NaN</td>\n",
       "      <td>1744.000000</td>\n",
       "      <td>12.000000</td>\n",
       "      <td>13.000000</td>\n",
       "      <td>4.000000</td>\n",
       "      <td>4.000000</td>\n",
       "      <td>4.000000</td>\n",
       "      <td>4.000000</td>\n",
       "      <td>4.000000</td>\n",
       "      <td>4.000000</td>\n",
       "      <td>5.000000</td>\n",
       "      <td>4.000000</td>\n",
       "      <td>4.000000</td>\n",
       "      <td>4.000000</td>\n",
       "      <td>5.000000</td>\n",
       "      <td>4.000000</td>\n",
       "      <td>5.00000</td>\n",
       "      <td>4.000000</td>\n",
       "      <td>NaN</td>\n",
       "    </tr>\n",
       "    <tr>\n",
       "      <th>max</th>\n",
       "      <td>129880.000000</td>\n",
       "      <td>NaN</td>\n",
       "      <td>621.000000</td>\n",
       "      <td>NaN</td>\n",
       "      <td>NaN</td>\n",
       "      <td>NaN</td>\n",
       "      <td>379620.000000</td>\n",
       "      <td>22227.000000</td>\n",
       "      <td>14006.000000</td>\n",
       "      <td>45.000000</td>\n",
       "      <td>45.000000</td>\n",
       "      <td>45.000000</td>\n",
       "      <td>36.000000</td>\n",
       "      <td>45.000000</td>\n",
       "      <td>40.000000</td>\n",
       "      <td>45.000000</td>\n",
       "      <td>45.000000</td>\n",
       "      <td>45.000000</td>\n",
       "      <td>40.000000</td>\n",
       "      <td>40.000000</td>\n",
       "      <td>45.000000</td>\n",
       "      <td>40.00000</td>\n",
       "      <td>45.000000</td>\n",
       "      <td>NaN</td>\n",
       "    </tr>\n",
       "  </tbody>\n",
       "</table>\n",
       "</div>"
      ],
      "text/plain": [
       "                   id  Gender            Age   Customer Type   Type of Travel  \\\n",
       "count   129880.000000  129549  129564.000000          129803           129779   \n",
       "unique            NaN       2            NaN               2                2   \n",
       "top               NaN  Female            NaN  Loyal Customer  Business travel   \n",
       "freq              NaN   65726            NaN          106040            89625   \n",
       "mean     64940.500000     NaN      40.113951             NaN              NaN   \n",
       "std      37493.270818     NaN      20.365190             NaN              NaN   \n",
       "min          1.000000     NaN       0.000000             NaN              NaN   \n",
       "25%      32470.750000     NaN      27.000000             NaN              NaN   \n",
       "50%      64940.500000     NaN      40.000000             NaN              NaN   \n",
       "75%      97410.250000     NaN      51.000000             NaN              NaN   \n",
       "max     129880.000000     NaN     621.000000             NaN              NaN   \n",
       "\n",
       "           Class  Flight Distance  Departure Delay in Minutes  \\\n",
       "count     129764    129786.000000               129773.000000   \n",
       "unique         3              NaN                         NaN   \n",
       "top     Business              NaN                         NaN   \n",
       "freq       62103              NaN                         NaN   \n",
       "mean         NaN      1323.385804                   15.811301   \n",
       "std          NaN      4516.191530                   93.206139   \n",
       "min          NaN         0.000000                    0.000000   \n",
       "25%          NaN       414.000000                    0.000000   \n",
       "50%          NaN       846.000000                    0.000000   \n",
       "75%          NaN      1744.000000                   12.000000   \n",
       "max          NaN    379620.000000                22227.000000   \n",
       "\n",
       "        Arrival Delay in Minutes  Inflight wifi service  \\\n",
       "count              129371.000000          129835.000000   \n",
       "unique                       NaN                    NaN   \n",
       "top                          NaN                    NaN   \n",
       "freq                         NaN                    NaN   \n",
       "mean                   16.651406               2.732183   \n",
       "std                   109.167328               1.359786   \n",
       "min                     0.000000               0.000000   \n",
       "25%                     0.000000               2.000000   \n",
       "50%                     0.000000               3.000000   \n",
       "75%                    13.000000               4.000000   \n",
       "max                 14006.000000              45.000000   \n",
       "\n",
       "        Departure/Arrival time convenient  Ease of Online booking  \\\n",
       "count                       129831.000000           129837.000000   \n",
       "unique                                NaN                     NaN   \n",
       "top                                   NaN                     NaN   \n",
       "freq                                  NaN                     NaN   \n",
       "mean                             3.061857                2.760523   \n",
       "std                              1.559323                1.430800   \n",
       "min                              0.000000                0.000000   \n",
       "25%                              2.000000                2.000000   \n",
       "50%                              3.000000                3.000000   \n",
       "75%                              4.000000                4.000000   \n",
       "max                             45.000000               45.000000   \n",
       "\n",
       "        Gate location  Food and drink  Online boarding   Seat comfort  \\\n",
       "count   129842.000000   129830.000000    129834.000000  129832.000000   \n",
       "unique            NaN             NaN              NaN            NaN   \n",
       "top               NaN             NaN              NaN            NaN   \n",
       "freq              NaN             NaN              NaN            NaN   \n",
       "mean         2.981424        3.208349         3.256674       3.445691   \n",
       "std          1.312628        1.357649         1.381889       1.349732   \n",
       "min          0.000000        0.000000         0.000000       0.000000   \n",
       "25%          2.000000        2.000000         2.000000       2.000000   \n",
       "50%          3.000000        3.000000         3.000000       4.000000   \n",
       "75%          4.000000        4.000000         4.000000       5.000000   \n",
       "max         36.000000       45.000000        40.000000      45.000000   \n",
       "\n",
       "        Inflight entertainment  On-board service  Leg room service  \\\n",
       "count            129833.000000     129836.000000     129834.000000   \n",
       "unique                     NaN               NaN               NaN   \n",
       "top                        NaN               NaN               NaN   \n",
       "freq                       NaN               NaN               NaN   \n",
       "mean                  3.361395          3.387181          3.356101   \n",
       "std                   1.366866          1.335540          1.361633   \n",
       "min                   0.000000          0.000000          0.000000   \n",
       "25%                   2.000000          2.000000          2.000000   \n",
       "50%                   4.000000          4.000000          4.000000   \n",
       "75%                   4.000000          4.000000          4.000000   \n",
       "max                  45.000000         45.000000         40.000000   \n",
       "\n",
       "        Baggage handling  Checkin service  Inflight service    Cleanliness  \\\n",
       "count      129832.000000    129838.000000      129817.00000  129843.000000   \n",
       "unique               NaN              NaN               NaN            NaN   \n",
       "top                  NaN              NaN               NaN            NaN   \n",
       "freq                 NaN              NaN               NaN            NaN   \n",
       "mean            3.636107         3.310056           3.64718       3.289865   \n",
       "std             1.221818         1.298626           1.21837       1.347625   \n",
       "min             0.000000         0.000000           0.00000       0.000000   \n",
       "25%             3.000000         3.000000           3.00000       2.000000   \n",
       "50%             4.000000         3.000000           4.00000       3.000000   \n",
       "75%             5.000000         4.000000           5.00000       4.000000   \n",
       "max            40.000000        45.000000          40.00000      45.000000   \n",
       "\n",
       "                   satisfaction  \n",
       "count                    129880  \n",
       "unique                        3  \n",
       "top     neutral or dissatisfied  \n",
       "freq                      58879  \n",
       "mean                        NaN  \n",
       "std                         NaN  \n",
       "min                         NaN  \n",
       "25%                         NaN  \n",
       "50%                         NaN  \n",
       "75%                         NaN  \n",
       "max                         NaN  "
      ]
     },
     "execution_count": 9,
     "metadata": {},
     "output_type": "execute_result"
    }
   ],
   "source": [
    "pd.set_option('display.max_columns', None)\n",
    "df.describe(include='all')"
   ]
  },
  {
   "cell_type": "code",
   "execution_count": 10,
   "metadata": {},
   "outputs": [
    {
     "data": {
      "text/html": [
       "<div>\n",
       "<style scoped>\n",
       "    .dataframe tbody tr th:only-of-type {\n",
       "        vertical-align: middle;\n",
       "    }\n",
       "\n",
       "    .dataframe tbody tr th {\n",
       "        vertical-align: top;\n",
       "    }\n",
       "\n",
       "    .dataframe thead th {\n",
       "        text-align: right;\n",
       "    }\n",
       "</style>\n",
       "<table border=\"1\" class=\"dataframe\">\n",
       "  <thead>\n",
       "    <tr style=\"text-align: right;\">\n",
       "      <th></th>\n",
       "      <th>id</th>\n",
       "      <th>Age</th>\n",
       "      <th>Flight Distance</th>\n",
       "      <th>Departure Delay in Minutes</th>\n",
       "      <th>Arrival Delay in Minutes</th>\n",
       "      <th>Inflight wifi service</th>\n",
       "      <th>Departure/Arrival time convenient</th>\n",
       "      <th>Ease of Online booking</th>\n",
       "      <th>Gate location</th>\n",
       "      <th>Food and drink</th>\n",
       "      <th>Online boarding</th>\n",
       "      <th>Seat comfort</th>\n",
       "      <th>Inflight entertainment</th>\n",
       "      <th>On-board service</th>\n",
       "      <th>Leg room service</th>\n",
       "      <th>Baggage handling</th>\n",
       "      <th>Checkin service</th>\n",
       "      <th>Inflight service</th>\n",
       "      <th>Cleanliness</th>\n",
       "    </tr>\n",
       "  </thead>\n",
       "  <tbody>\n",
       "    <tr>\n",
       "      <th>count</th>\n",
       "      <td>129880.000000</td>\n",
       "      <td>129564.000000</td>\n",
       "      <td>129786.000000</td>\n",
       "      <td>129773.000000</td>\n",
       "      <td>129371.000000</td>\n",
       "      <td>129835.000000</td>\n",
       "      <td>129831.000000</td>\n",
       "      <td>129837.000000</td>\n",
       "      <td>129842.000000</td>\n",
       "      <td>129830.000000</td>\n",
       "      <td>129834.000000</td>\n",
       "      <td>129832.000000</td>\n",
       "      <td>129833.000000</td>\n",
       "      <td>129836.000000</td>\n",
       "      <td>129834.000000</td>\n",
       "      <td>129832.000000</td>\n",
       "      <td>129838.000000</td>\n",
       "      <td>129817.00000</td>\n",
       "      <td>129843.000000</td>\n",
       "    </tr>\n",
       "    <tr>\n",
       "      <th>mean</th>\n",
       "      <td>64940.500000</td>\n",
       "      <td>40.113951</td>\n",
       "      <td>1323.385804</td>\n",
       "      <td>15.811301</td>\n",
       "      <td>16.651406</td>\n",
       "      <td>2.732183</td>\n",
       "      <td>3.061857</td>\n",
       "      <td>2.760523</td>\n",
       "      <td>2.981424</td>\n",
       "      <td>3.208349</td>\n",
       "      <td>3.256674</td>\n",
       "      <td>3.445691</td>\n",
       "      <td>3.361395</td>\n",
       "      <td>3.387181</td>\n",
       "      <td>3.356101</td>\n",
       "      <td>3.636107</td>\n",
       "      <td>3.310056</td>\n",
       "      <td>3.64718</td>\n",
       "      <td>3.289865</td>\n",
       "    </tr>\n",
       "    <tr>\n",
       "      <th>std</th>\n",
       "      <td>37493.270818</td>\n",
       "      <td>20.365190</td>\n",
       "      <td>4516.191530</td>\n",
       "      <td>93.206139</td>\n",
       "      <td>109.167328</td>\n",
       "      <td>1.359786</td>\n",
       "      <td>1.559323</td>\n",
       "      <td>1.430800</td>\n",
       "      <td>1.312628</td>\n",
       "      <td>1.357649</td>\n",
       "      <td>1.381889</td>\n",
       "      <td>1.349732</td>\n",
       "      <td>1.366866</td>\n",
       "      <td>1.335540</td>\n",
       "      <td>1.361633</td>\n",
       "      <td>1.221818</td>\n",
       "      <td>1.298626</td>\n",
       "      <td>1.21837</td>\n",
       "      <td>1.347625</td>\n",
       "    </tr>\n",
       "    <tr>\n",
       "      <th>min</th>\n",
       "      <td>1.000000</td>\n",
       "      <td>0.000000</td>\n",
       "      <td>0.000000</td>\n",
       "      <td>0.000000</td>\n",
       "      <td>0.000000</td>\n",
       "      <td>0.000000</td>\n",
       "      <td>0.000000</td>\n",
       "      <td>0.000000</td>\n",
       "      <td>0.000000</td>\n",
       "      <td>0.000000</td>\n",
       "      <td>0.000000</td>\n",
       "      <td>0.000000</td>\n",
       "      <td>0.000000</td>\n",
       "      <td>0.000000</td>\n",
       "      <td>0.000000</td>\n",
       "      <td>0.000000</td>\n",
       "      <td>0.000000</td>\n",
       "      <td>0.00000</td>\n",
       "      <td>0.000000</td>\n",
       "    </tr>\n",
       "    <tr>\n",
       "      <th>25%</th>\n",
       "      <td>32470.750000</td>\n",
       "      <td>27.000000</td>\n",
       "      <td>414.000000</td>\n",
       "      <td>0.000000</td>\n",
       "      <td>0.000000</td>\n",
       "      <td>2.000000</td>\n",
       "      <td>2.000000</td>\n",
       "      <td>2.000000</td>\n",
       "      <td>2.000000</td>\n",
       "      <td>2.000000</td>\n",
       "      <td>2.000000</td>\n",
       "      <td>2.000000</td>\n",
       "      <td>2.000000</td>\n",
       "      <td>2.000000</td>\n",
       "      <td>2.000000</td>\n",
       "      <td>3.000000</td>\n",
       "      <td>3.000000</td>\n",
       "      <td>3.00000</td>\n",
       "      <td>2.000000</td>\n",
       "    </tr>\n",
       "    <tr>\n",
       "      <th>50%</th>\n",
       "      <td>64940.500000</td>\n",
       "      <td>40.000000</td>\n",
       "      <td>846.000000</td>\n",
       "      <td>0.000000</td>\n",
       "      <td>0.000000</td>\n",
       "      <td>3.000000</td>\n",
       "      <td>3.000000</td>\n",
       "      <td>3.000000</td>\n",
       "      <td>3.000000</td>\n",
       "      <td>3.000000</td>\n",
       "      <td>3.000000</td>\n",
       "      <td>4.000000</td>\n",
       "      <td>4.000000</td>\n",
       "      <td>4.000000</td>\n",
       "      <td>4.000000</td>\n",
       "      <td>4.000000</td>\n",
       "      <td>3.000000</td>\n",
       "      <td>4.00000</td>\n",
       "      <td>3.000000</td>\n",
       "    </tr>\n",
       "    <tr>\n",
       "      <th>75%</th>\n",
       "      <td>97410.250000</td>\n",
       "      <td>51.000000</td>\n",
       "      <td>1744.000000</td>\n",
       "      <td>12.000000</td>\n",
       "      <td>13.000000</td>\n",
       "      <td>4.000000</td>\n",
       "      <td>4.000000</td>\n",
       "      <td>4.000000</td>\n",
       "      <td>4.000000</td>\n",
       "      <td>4.000000</td>\n",
       "      <td>4.000000</td>\n",
       "      <td>5.000000</td>\n",
       "      <td>4.000000</td>\n",
       "      <td>4.000000</td>\n",
       "      <td>4.000000</td>\n",
       "      <td>5.000000</td>\n",
       "      <td>4.000000</td>\n",
       "      <td>5.00000</td>\n",
       "      <td>4.000000</td>\n",
       "    </tr>\n",
       "    <tr>\n",
       "      <th>max</th>\n",
       "      <td>129880.000000</td>\n",
       "      <td>621.000000</td>\n",
       "      <td>379620.000000</td>\n",
       "      <td>22227.000000</td>\n",
       "      <td>14006.000000</td>\n",
       "      <td>45.000000</td>\n",
       "      <td>45.000000</td>\n",
       "      <td>45.000000</td>\n",
       "      <td>36.000000</td>\n",
       "      <td>45.000000</td>\n",
       "      <td>40.000000</td>\n",
       "      <td>45.000000</td>\n",
       "      <td>45.000000</td>\n",
       "      <td>45.000000</td>\n",
       "      <td>40.000000</td>\n",
       "      <td>40.000000</td>\n",
       "      <td>45.000000</td>\n",
       "      <td>40.00000</td>\n",
       "      <td>45.000000</td>\n",
       "    </tr>\n",
       "  </tbody>\n",
       "</table>\n",
       "</div>"
      ],
      "text/plain": [
       "                  id            Age  Flight Distance  \\\n",
       "count  129880.000000  129564.000000    129786.000000   \n",
       "mean    64940.500000      40.113951      1323.385804   \n",
       "std     37493.270818      20.365190      4516.191530   \n",
       "min         1.000000       0.000000         0.000000   \n",
       "25%     32470.750000      27.000000       414.000000   \n",
       "50%     64940.500000      40.000000       846.000000   \n",
       "75%     97410.250000      51.000000      1744.000000   \n",
       "max    129880.000000     621.000000    379620.000000   \n",
       "\n",
       "       Departure Delay in Minutes  Arrival Delay in Minutes  \\\n",
       "count               129773.000000             129371.000000   \n",
       "mean                    15.811301                 16.651406   \n",
       "std                     93.206139                109.167328   \n",
       "min                      0.000000                  0.000000   \n",
       "25%                      0.000000                  0.000000   \n",
       "50%                      0.000000                  0.000000   \n",
       "75%                     12.000000                 13.000000   \n",
       "max                  22227.000000              14006.000000   \n",
       "\n",
       "       Inflight wifi service  Departure/Arrival time convenient  \\\n",
       "count          129835.000000                      129831.000000   \n",
       "mean                2.732183                           3.061857   \n",
       "std                 1.359786                           1.559323   \n",
       "min                 0.000000                           0.000000   \n",
       "25%                 2.000000                           2.000000   \n",
       "50%                 3.000000                           3.000000   \n",
       "75%                 4.000000                           4.000000   \n",
       "max                45.000000                          45.000000   \n",
       "\n",
       "       Ease of Online booking  Gate location  Food and drink  Online boarding  \\\n",
       "count           129837.000000  129842.000000   129830.000000    129834.000000   \n",
       "mean                 2.760523       2.981424        3.208349         3.256674   \n",
       "std                  1.430800       1.312628        1.357649         1.381889   \n",
       "min                  0.000000       0.000000        0.000000         0.000000   \n",
       "25%                  2.000000       2.000000        2.000000         2.000000   \n",
       "50%                  3.000000       3.000000        3.000000         3.000000   \n",
       "75%                  4.000000       4.000000        4.000000         4.000000   \n",
       "max                 45.000000      36.000000       45.000000        40.000000   \n",
       "\n",
       "        Seat comfort  Inflight entertainment  On-board service  \\\n",
       "count  129832.000000           129833.000000     129836.000000   \n",
       "mean        3.445691                3.361395          3.387181   \n",
       "std         1.349732                1.366866          1.335540   \n",
       "min         0.000000                0.000000          0.000000   \n",
       "25%         2.000000                2.000000          2.000000   \n",
       "50%         4.000000                4.000000          4.000000   \n",
       "75%         5.000000                4.000000          4.000000   \n",
       "max        45.000000               45.000000         45.000000   \n",
       "\n",
       "       Leg room service  Baggage handling  Checkin service  Inflight service  \\\n",
       "count     129834.000000     129832.000000    129838.000000      129817.00000   \n",
       "mean           3.356101          3.636107         3.310056           3.64718   \n",
       "std            1.361633          1.221818         1.298626           1.21837   \n",
       "min            0.000000          0.000000         0.000000           0.00000   \n",
       "25%            2.000000          3.000000         3.000000           3.00000   \n",
       "50%            4.000000          4.000000         3.000000           4.00000   \n",
       "75%            4.000000          5.000000         4.000000           5.00000   \n",
       "max           40.000000         40.000000        45.000000          40.00000   \n",
       "\n",
       "         Cleanliness  \n",
       "count  129843.000000  \n",
       "mean        3.289865  \n",
       "std         1.347625  \n",
       "min         0.000000  \n",
       "25%         2.000000  \n",
       "50%         3.000000  \n",
       "75%         4.000000  \n",
       "max        45.000000  "
      ]
     },
     "execution_count": 10,
     "metadata": {},
     "output_type": "execute_result"
    }
   ],
   "source": [
    "df.describe()"
   ]
  },
  {
   "cell_type": "markdown",
   "metadata": {},
   "source": [
    "Анализ распределения целевой переменной: Посмотрим на распределение значений в целевой переменной \"satisfaction\" и посчитаем количество удовлетворенных и недовольных клиентов."
   ]
  },
  {
   "cell_type": "code",
   "execution_count": 11,
   "metadata": {},
   "outputs": [
    {
     "data": {
      "text/plain": [
       "satisfaction\n",
       "neutral or dissatisfied    58879\n",
       "satisfied                  45025\n",
       "-                          25976\n",
       "Name: count, dtype: int64"
      ]
     },
     "execution_count": 11,
     "metadata": {},
     "output_type": "execute_result"
    }
   ],
   "source": [
    "df['satisfaction'].value_counts()"
   ]
  },
  {
   "cell_type": "markdown",
   "metadata": {},
   "source": [
    "Видим, что, порядка, 20 процентов данных об удовлетворенности клиентов представлены не в нужном формате \"-\". \n",
    "\n",
    "Удалим значения '-' и посмотрим на баланс классов."
   ]
  },
  {
   "cell_type": "code",
   "execution_count": 12,
   "metadata": {},
   "outputs": [
    {
     "name": "stdout",
     "output_type": "stream",
     "text": [
      "<class 'pandas.core.frame.DataFrame'>\n",
      "Index: 103904 entries, 0 to 129879\n",
      "Data columns (total 24 columns):\n",
      " #   Column                             Non-Null Count   Dtype  \n",
      "---  ------                             --------------   -----  \n",
      " 0   id                                 103904 non-null  int64  \n",
      " 1   Gender                             103644 non-null  object \n",
      " 2   Age                                103643 non-null  float64\n",
      " 3   Customer Type                      103838 non-null  object \n",
      " 4   Type of Travel                     103816 non-null  object \n",
      " 5   Class                              103815 non-null  object \n",
      " 6   Flight Distance                    103832 non-null  float64\n",
      " 7   Departure Delay in Minutes         103820 non-null  float64\n",
      " 8   Arrival Delay in Minutes           103497 non-null  float64\n",
      " 9   Inflight wifi service              103871 non-null  float64\n",
      " 10  Departure/Arrival time convenient  103863 non-null  float64\n",
      " 11  Ease of Online booking             103871 non-null  float64\n",
      " 12  Gate location                      103873 non-null  float64\n",
      " 13  Food and drink                     103869 non-null  float64\n",
      " 14  Online boarding                    103867 non-null  float64\n",
      " 15  Seat comfort                       103863 non-null  float64\n",
      " 16  Inflight entertainment             103860 non-null  float64\n",
      " 17  On-board service                   103872 non-null  float64\n",
      " 18  Leg room service                   103868 non-null  float64\n",
      " 19  Baggage handling                   103872 non-null  float64\n",
      " 20  Checkin service                    103870 non-null  float64\n",
      " 21  Inflight service                   103855 non-null  float64\n",
      " 22  Cleanliness                        103873 non-null  float64\n",
      " 23  satisfaction                       103904 non-null  object \n",
      "dtypes: float64(18), int64(1), object(5)\n",
      "memory usage: 19.8+ MB\n"
     ]
    }
   ],
   "source": [
    "df = df[df['satisfaction'] != '-']\n",
    "df.info()"
   ]
  },
  {
   "cell_type": "code",
   "execution_count": 13,
   "metadata": {},
   "outputs": [
    {
     "data": {
      "text/plain": [
       "<BarContainer object of 2 artists>"
      ]
     },
     "execution_count": 13,
     "metadata": {},
     "output_type": "execute_result"
    },
    {
     "data": {
      "image/png": "[encoded data removed]",
      "text/plain": [
       "<Figure size 640x480 with 1 Axes>"
      ]
     },
     "metadata": {},
     "output_type": "display_data"
    }
   ],
   "source": [
    "plt.bar(['neutral or dissatisfied', 'satisfied'], df['satisfaction'].value_counts())"
   ]
  },
  {
   "cell_type": "markdown",
   "metadata": {},
   "source": [
    "<h4>Находим процент пустых ячеек в каждом из столбцов</h4>"
   ]
  },
  {
   "cell_type": "code",
   "execution_count": 14,
   "metadata": {},
   "outputs": [
    {
     "data": {
      "text/plain": [
       "id                                   0.000000\n",
       "Gender                               0.250231\n",
       "Age                                  0.251193\n",
       "Customer Type                        0.063520\n",
       "Type of Travel                       0.084694\n",
       "Class                                0.085656\n",
       "Flight Distance                      0.069295\n",
       "Departure Delay in Minutes           0.080844\n",
       "Arrival Delay in Minutes             0.391708\n",
       "Inflight wifi service                0.031760\n",
       "Departure/Arrival time convenient    0.039460\n",
       "Ease of Online booking               0.031760\n",
       "Gate location                        0.029835\n",
       "Food and drink                       0.033685\n",
       "Online boarding                      0.035610\n",
       "Seat comfort                         0.039460\n",
       "Inflight entertainment               0.042347\n",
       "On-board service                     0.030798\n",
       "Leg room service                     0.034647\n",
       "Baggage handling                     0.030798\n",
       "Checkin service                      0.032723\n",
       "Inflight service                     0.047159\n",
       "Cleanliness                          0.029835\n",
       "satisfaction                         0.000000\n",
       "dtype: float64"
      ]
     },
     "execution_count": 14,
     "metadata": {},
     "output_type": "execute_result"
    }
   ],
   "source": [
    "df.isnull().mean() * 100"
   ]
  },
  {
   "cell_type": "markdown",
   "metadata": {},
   "source": [
    "В процентном соотношении количество пропусков невелико (менее 5%)."
   ]
  },
  {
   "cell_type": "markdown",
   "metadata": {},
   "source": [
    "<h4>Обрабатываем пропуски с данными о поле клиентов</h4>\n",
    "\n",
    "Восполним пропуски значениями Female и Male так, чтобы в процентом соотношении количество женщин и мужчин было то же."
   ]
  },
  {
   "cell_type": "code",
   "execution_count": 15,
   "metadata": {},
   "outputs": [
    {
     "name": "stdout",
     "output_type": "stream",
     "text": [
      "Gender\n",
      "Female    0.50741\n",
      "Male      0.49259\n",
      "Name: count, dtype: float64\n"
     ]
    }
   ],
   "source": [
    "import random\n",
    "\n",
    "# Рассчитываем доли мужчин и женщин\n",
    "gender_counts = df['Gender'].value_counts()\n",
    "# print(gender_counts)\n",
    "gender_ratios = gender_counts / gender_counts.sum()\n",
    "print(gender_ratios)\n",
    "\n",
    "# Создаем список значений \"Male\" и \"Female\" с учетом их долей\n",
    "gender_list = ['Male'] * int(gender_counts.sum() * gender_ratios['Male']) + ['Female'] * int(gender_counts.sum() * gender_ratios['Female'])\n",
    "\n",
    "# Заполняем пропущенные значения выбранными случайными значениями\n",
    "df['Gender'].fillna(random.choice(gender_list), inplace=True)\n"
   ]
  },
  {
   "cell_type": "code",
   "execution_count": 16,
   "metadata": {},
   "outputs": [
    {
     "data": {
      "text/plain": [
       "Gender\n",
       "Female    52590\n",
       "Male      51314\n",
       "Name: count, dtype: int64"
      ]
     },
     "execution_count": 16,
     "metadata": {},
     "output_type": "execute_result"
    }
   ],
   "source": [
    "df['Gender'].value_counts()"
   ]
  },
  {
   "cell_type": "code",
   "execution_count": null,
   "metadata": {},
   "outputs": [],
   "source": [
    "# Label Encoding. \"Female\": 0, \"Male\": 1\n",
    "# gender_mapping = {\"Female\": 0, \"Male\": 1}\n",
    "# df['Gender'] = df['Gender'].map(gender_mapping)"
   ]
  },
  {
   "cell_type": "markdown",
   "metadata": {},
   "source": [
    "<h4>Рассмотрим данные клиентов о возрасте</h4>"
   ]
  },
  {
   "cell_type": "code",
   "execution_count": 17,
   "metadata": {},
   "outputs": [
    {
     "data": {
      "text/plain": [
       "<Axes: xlabel='Age'>"
      ]
     },
     "execution_count": 17,
     "metadata": {},
     "output_type": "execute_result"
    },
    {
     "data": {
      "image/png": "[encoded data removed]",
      "text/plain": [
       "<Figure size 640x480 with 1 Axes>"
      ]
     },
     "metadata": {},
     "output_type": "display_data"
    }
   ],
   "source": [
    "import seaborn as sns\n",
    "sns.boxplot(x = df['Age'])"
   ]
  },
  {
   "cell_type": "markdown",
   "metadata": {},
   "source": [
    "Видим достаточно большое число выбросов. Предполагаем, что возраст больше 110 является выбросом. Также видим, что есть данные с возрастом участников меньше 10 лет - предположим, что в том случае, если за ребенка в возрасте до 6 лет анкету заполнял родитель, заменим эти данные на медиану. "
   ]
  },
  {
   "cell_type": "code",
   "execution_count": 18,
   "metadata": {},
   "outputs": [
    {
     "data": {
      "text/plain": [
       "(351, 24)"
      ]
     },
     "execution_count": 18,
     "metadata": {},
     "output_type": "execute_result"
    }
   ],
   "source": [
    "outliers_age = df[(df['Age'] > 110) | (df['Age'] <= 6)]\n",
    "outliers_age.shape  # количество так называемых выбросов"
   ]
  },
  {
   "cell_type": "code",
   "execution_count": 19,
   "metadata": {},
   "outputs": [
    {
     "data": {
      "text/plain": [
       "40.0"
      ]
     },
     "execution_count": 19,
     "metadata": {},
     "output_type": "execute_result"
    }
   ],
   "source": [
    "median_age = df['Age'].median()\n",
    "median_age  # медиана возраста"
   ]
  },
  {
   "cell_type": "code",
   "execution_count": 20,
   "metadata": {},
   "outputs": [],
   "source": [
    "# Заменяем выбросы и пустые значения на медианное значение\n",
    "df.loc[(df['Age'] > 110) | (df['Age'] <= 6), 'Age'] = median_age  \n",
    "df.loc[df['Age'].isnull(), 'Age'] = median_age"
   ]
  },
  {
   "cell_type": "markdown",
   "metadata": {},
   "source": [
    "Построили ящик с усами для новых данных о возрасте. Стало лучше. "
   ]
  },
  {
   "cell_type": "code",
   "execution_count": 21,
   "metadata": {},
   "outputs": [
    {
     "data": {
      "text/plain": [
       "<Axes: xlabel='Age'>"
      ]
     },
     "execution_count": 21,
     "metadata": {},
     "output_type": "execute_result"
    },
    {
     "data": {
      "image/png": "[encoded data removed]",
      "text/plain": [
       "<Figure size 640x480 with 1 Axes>"
      ]
     },
     "metadata": {},
     "output_type": "display_data"
    }
   ],
   "source": [
    "sns.boxplot(x = df['Age'])  "
   ]
  },
  {
   "cell_type": "code",
   "execution_count": 22,
   "metadata": {},
   "outputs": [
    {
     "data": {
      "text/plain": [
       "<Axes: xlabel='Age', ylabel='Count'>"
      ]
     },
     "execution_count": 22,
     "metadata": {},
     "output_type": "execute_result"
    },
    {
     "data": {
      "image/png": "[encoded data removed]",
      "text/plain": [
       "<Figure size 640x480 with 1 Axes>"
      ]
     },
     "metadata": {},
     "output_type": "display_data"
    }
   ],
   "source": [
    "sns.histplot(data=df, x='Age')  # строим гистограмму"
   ]
  },
  {
   "cell_type": "code",
   "execution_count": 23,
   "metadata": {},
   "outputs": [
    {
     "data": {
      "text/plain": [
       "39.41995495842316"
      ]
     },
     "execution_count": 23,
     "metadata": {},
     "output_type": "execute_result"
    }
   ],
   "source": [
    "mean_value = df['Age'].mean()\n",
    "mean_value  # находим среднее"
   ]
  },
  {
   "cell_type": "markdown",
   "metadata": {},
   "source": [
    "Визуально распределение возраста после предобработки нормальное, значения среднего и медианы примерно равны"
   ]
  },
  {
   "cell_type": "markdown",
   "metadata": {},
   "source": [
    "<h4>Обрабатываем данные с информацией о категории клиентов (лояльные или нет)</h4>"
   ]
  },
  {
   "cell_type": "code",
   "execution_count": 24,
   "metadata": {},
   "outputs": [
    {
     "data": {
      "text/plain": [
       "Customer Type\n",
       "Loyal Customer       84873\n",
       "disloyal Customer    18965\n",
       "Name: count, dtype: int64"
      ]
     },
     "execution_count": 24,
     "metadata": {},
     "output_type": "execute_result"
    }
   ],
   "source": [
    "df['Customer Type'].value_counts()"
   ]
  },
  {
   "cell_type": "code",
   "execution_count": 25,
   "metadata": {},
   "outputs": [
    {
     "data": {
      "text/plain": [
       "66"
      ]
     },
     "execution_count": 25,
     "metadata": {},
     "output_type": "execute_result"
    }
   ],
   "source": [
    "df['Customer Type'].isnull().sum()"
   ]
  },
  {
   "cell_type": "markdown",
   "metadata": {},
   "source": [
    "Количество пропусков совсем невелико, поэтому заполним их модой."
   ]
  },
  {
   "cell_type": "code",
   "execution_count": 26,
   "metadata": {},
   "outputs": [],
   "source": [
    "df['Customer Type'].fillna('Loyal Customer', inplace=True)"
   ]
  },
  {
   "cell_type": "code",
   "execution_count": 27,
   "metadata": {},
   "outputs": [
    {
     "data": {
      "text/plain": [
       "Customer Type\n",
       "Loyal Customer       84939\n",
       "disloyal Customer    18965\n",
       "Name: count, dtype: int64"
      ]
     },
     "execution_count": 27,
     "metadata": {},
     "output_type": "execute_result"
    }
   ],
   "source": [
    "df['Customer Type'].value_counts()"
   ]
  },
  {
   "cell_type": "code",
   "execution_count": null,
   "metadata": {},
   "outputs": [],
   "source": [
    "# Customer Type Label Encoding. \"disloyal Customer\": 0, \"Loyal Customer\": 1.\n",
    "# custom_type_mapping = {\"disloyal Customer\": 0, \"Loyal Customer\": 1}\n",
    "# df['Customer Type'] = df['Customer Type'].map(custom_type_mapping)"
   ]
  },
  {
   "cell_type": "markdown",
   "metadata": {},
   "source": [
    "<h4>Обработаем признак Type of Travel</h4>"
   ]
  },
  {
   "cell_type": "code",
   "execution_count": 29,
   "metadata": {},
   "outputs": [
    {
     "data": {
      "text/plain": [
       "Type of Travel\n",
       "Business travel    71596\n",
       "Personal Travel    32220\n",
       "Name: count, dtype: int64"
      ]
     },
     "execution_count": 29,
     "metadata": {},
     "output_type": "execute_result"
    }
   ],
   "source": [
    "df['Type of Travel'].value_counts()"
   ]
  },
  {
   "cell_type": "code",
   "execution_count": 30,
   "metadata": {},
   "outputs": [],
   "source": [
    "df['Type of Travel'].fillna('Business travel', inplace=True)"
   ]
  },
  {
   "cell_type": "markdown",
   "metadata": {},
   "source": [
    "Для изучения связи между типом поездки и удовлетворенностью клиента (целевой переменной \"satisfaction\") построим сводную таблицу или график, отображающий соотношение удовлетворенных и недовольных клиентов для каждого типа поездки."
   ]
  },
  {
   "cell_type": "code",
   "execution_count": 31,
   "metadata": {},
   "outputs": [
    {
     "data": {
      "image/png": "[encoded data removed]",
      "text/plain": [
       "<Figure size 640x480 with 1 Axes>"
      ]
     },
     "metadata": {},
     "output_type": "display_data"
    }
   ],
   "source": [
    "import matplotlib.pyplot as plt\n",
    "\n",
    "# Группируем данные по типу поездки и удовлетворенности клиента, и подсчитываем их количество\n",
    "satisfaction_by_travel_type = df.groupby(['Type of Travel', 'satisfaction']).size().unstack()\n",
    "\n",
    "# Строим столбчатую диаграмму\n",
    "satisfaction_by_travel_type.plot(kind='bar', stacked=True)\n",
    "plt.xlabel('Type of Travel')\n",
    "plt.ylabel('Count')\n",
    "plt.title('Satisfaction by Travel Type')\n",
    "plt.legend(loc='upper right')\n",
    "plt.show()"
   ]
  },
  {
   "cell_type": "code",
   "execution_count": null,
   "metadata": {},
   "outputs": [],
   "source": [
    "# travel_type_mapping = {\"Business travel\": 0, \"Personal Travel\": 1}\n",
    "# df['Type of Travel'] = df['Type of Travel'].map(travel_type_mapping)"
   ]
  },
  {
   "cell_type": "markdown",
   "metadata": {},
   "source": [
    "<h4>Обработаем признак Class</h4>"
   ]
  },
  {
   "cell_type": "code",
   "execution_count": 32,
   "metadata": {},
   "outputs": [
    {
     "data": {
      "text/plain": [
       "Class\n",
       "Business    49615\n",
       "Eco         46714\n",
       "Eco Plus     7486\n",
       "Name: count, dtype: int64"
      ]
     },
     "execution_count": 32,
     "metadata": {},
     "output_type": "execute_result"
    }
   ],
   "source": [
    "df['Class'].value_counts()"
   ]
  },
  {
   "cell_type": "code",
   "execution_count": 33,
   "metadata": {},
   "outputs": [
    {
     "data": {
      "text/plain": [
       "89"
      ]
     },
     "execution_count": 33,
     "metadata": {},
     "output_type": "execute_result"
    }
   ],
   "source": [
    "df['Class'].isnull().sum()"
   ]
  },
  {
   "cell_type": "markdown",
   "metadata": {},
   "source": [
    "Так как количество пропусков совсем невелико, удалим эти строки. А также применим encoding для категориальных признаков."
   ]
  },
  {
   "cell_type": "code",
   "execution_count": 34,
   "metadata": {},
   "outputs": [],
   "source": [
    "df.dropna(subset=['Class'], inplace=True)"
   ]
  },
  {
   "cell_type": "code",
   "execution_count": null,
   "metadata": {},
   "outputs": [],
   "source": [
    "class_mapping = {'Eco Plus': 1, 'Eco': 2, 'Business': 3}\n",
    "df['Class'] = df['Class'].map(class_mapping)"
   ]
  },
  {
   "cell_type": "code",
   "execution_count": 35,
   "metadata": {},
   "outputs": [
    {
     "data": {
      "text/plain": [
       "count    103743.000000\n",
       "mean       1326.616572\n",
       "std        4654.644023\n",
       "min           0.000000\n",
       "25%         414.000000\n",
       "50%         844.000000\n",
       "75%        1744.000000\n",
       "max      379620.000000\n",
       "Name: Flight Distance, dtype: float64"
      ]
     },
     "execution_count": 35,
     "metadata": {},
     "output_type": "execute_result"
    }
   ],
   "source": [
    "df['Flight Distance'].describe()"
   ]
  },
  {
   "cell_type": "code",
   "execution_count": 36,
   "metadata": {},
   "outputs": [
    {
     "data": {
      "text/plain": [
       "(array([1.03635e+05, 4.20000e+01, 1.80000e+01, 2.00000e+01, 1.00000e+01,\n",
       "        8.00000e+00, 4.00000e+00, 3.00000e+00, 2.00000e+00, 1.00000e+00]),\n",
       " array([     0.,  37962.,  75924., 113886., 151848., 189810., 227772.,\n",
       "        265734., 303696., 341658., 379620.]),\n",
       " <BarContainer object of 10 artists>)"
      ]
     },
     "execution_count": 36,
     "metadata": {},
     "output_type": "execute_result"
    },
    {
     "data": {
      "image/png": "[encoded data removed]",
      "text/plain": [
       "<Figure size 640x480 with 1 Axes>"
      ]
     },
     "metadata": {},
     "output_type": "display_data"
    }
   ],
   "source": [
    "plt.hist(df['Flight Distance'])"
   ]
  },
  {
   "cell_type": "code",
   "execution_count": 37,
   "metadata": {},
   "outputs": [
    {
     "data": {
      "text/plain": [
       "<Axes: ylabel='Flight Distance'>"
      ]
     },
     "execution_count": 37,
     "metadata": {},
     "output_type": "execute_result"
    },
    {
     "data": {
      "image/png": "[encoded data removed]",
      "text/plain": [
       "<Figure size 640x480 with 1 Axes>"
      ]
     },
     "metadata": {},
     "output_type": "display_data"
    }
   ],
   "source": [
    "sns.boxplot(data=df, y='Flight Distance')"
   ]
  },
  {
   "cell_type": "markdown",
   "metadata": {},
   "source": [
    "На представленных графиках видим, что есть достаточо большое количество выбросов. На основе межквартильного размаха вычислим выбросы и заменим их на среднее значение дальности полетов. "
   ]
  },
  {
   "cell_type": "code",
   "execution_count": 38,
   "metadata": {},
   "outputs": [],
   "source": [
    "# Вычисление первого и третьего квартилей\n",
    "Q1 = df['Flight Distance'].quantile(0.25)\n",
    "Q3 = df['Flight Distance'].quantile(0.75)\n",
    "\n",
    "# Расчет межквартильного размаха\n",
    "IQR = Q3 - Q1\n",
    "\n",
    "# Определение границ выбросов\n",
    "lower_bound = Q1 - 1.5 * IQR\n",
    "upper_bound = Q3 + 1.5 * IQR\n",
    "\n",
    "# Выделение значений, находящихся за пределами границ выбросов\n",
    "outliers = df[(df['Flight Distance'] < lower_bound) | (df['Flight Distance'] > upper_bound)]\n",
    "\n",
    "# Замена выбросов на среднее значение дальности полета\n",
    "mean_distance = df['Flight Distance'].mean()\n",
    "df.loc[(df['Flight Distance'] < lower_bound) | (df['Flight Distance'] > upper_bound), 'Flight Distance'] = mean_distance"
   ]
  },
  {
   "cell_type": "code",
   "execution_count": 39,
   "metadata": {},
   "outputs": [],
   "source": [
    "df['Flight Distance'].fillna(mean_distance, inplace=True)"
   ]
  },
  {
   "cell_type": "code",
   "execution_count": 40,
   "metadata": {},
   "outputs": [
    {
     "data": {
      "text/plain": [
       "0"
      ]
     },
     "execution_count": 40,
     "metadata": {},
     "output_type": "execute_result"
    }
   ],
   "source": [
    "df['Flight Distance'].isnull().sum()"
   ]
  },
  {
   "cell_type": "code",
   "execution_count": 41,
   "metadata": {},
   "outputs": [
    {
     "data": {
      "text/plain": [
       "<Axes: ylabel='Flight Distance'>"
      ]
     },
     "execution_count": 41,
     "metadata": {},
     "output_type": "execute_result"
    },
    {
     "data": {
      "image/png": "[encoded data removed]",
      "text/plain": [
       "<Figure size 640x480 with 1 Axes>"
      ]
     },
     "metadata": {},
     "output_type": "display_data"
    }
   ],
   "source": [
    "sns.boxplot(data=df, y='Flight Distance')"
   ]
  },
  {
   "cell_type": "markdown",
   "metadata": {},
   "source": [
    "<h4>Departure Delay in Minutes</h4>\n",
    "\n",
    "Проделаем то же самое, что и с дальностью полета. Будем считать очень большие значения выбросами и заменять их на среднее."
   ]
  },
  {
   "cell_type": "code",
   "execution_count": 42,
   "metadata": {},
   "outputs": [
    {
     "data": {
      "text/plain": [
       "<Axes: ylabel='Departure Delay in Minutes'>"
      ]
     },
     "execution_count": 42,
     "metadata": {},
     "output_type": "execute_result"
    },
    {
     "data": {
      "image/png": "[encoded data removed]",
      "text/plain": [
       "<Figure size 640x480 with 1 Axes>"
      ]
     },
     "metadata": {},
     "output_type": "display_data"
    }
   ],
   "source": [
    "sns.boxplot(data=df, y='Departure Delay in Minutes')"
   ]
  },
  {
   "cell_type": "code",
   "execution_count": 43,
   "metadata": {},
   "outputs": [
    {
     "data": {
      "text/plain": [
       "84"
      ]
     },
     "execution_count": 43,
     "metadata": {},
     "output_type": "execute_result"
    }
   ],
   "source": [
    "df['Departure Delay in Minutes'].isnull().sum()"
   ]
  },
  {
   "cell_type": "code",
   "execution_count": 44,
   "metadata": {},
   "outputs": [],
   "source": [
    "df.dropna(subset=['Departure Delay in Minutes'], inplace=True)"
   ]
  },
  {
   "cell_type": "markdown",
   "metadata": {},
   "source": [
    "Оставим данные с информацией о задержке без дополнительной обработки. Будем считать, что выбросов нет и все данные отражены корректно. "
   ]
  },
  {
   "cell_type": "code",
   "execution_count": 45,
   "metadata": {},
   "outputs": [
    {
     "data": {
      "text/plain": [
       "<Axes: ylabel='Departure Delay in Minutes'>"
      ]
     },
     "execution_count": 45,
     "metadata": {},
     "output_type": "execute_result"
    },
    {
     "data": {
      "image/png": "[encoded data removed]",
      "text/plain": [
       "<Figure size 640x480 with 1 Axes>"
      ]
     },
     "metadata": {},
     "output_type": "display_data"
    }
   ],
   "source": [
    "sns.boxplot(data=df, y='Departure Delay in Minutes')"
   ]
  },
  {
   "cell_type": "markdown",
   "metadata": {},
   "source": [
    "<h4>Arrival Delay in Minutes</h4>"
   ]
  },
  {
   "cell_type": "code",
   "execution_count": 46,
   "metadata": {},
   "outputs": [
    {
     "data": {
      "text/plain": [
       "<Axes: ylabel='Arrival Delay in Minutes'>"
      ]
     },
     "execution_count": 46,
     "metadata": {},
     "output_type": "execute_result"
    },
    {
     "data": {
      "image/png": "[encoded data removed]",
      "text/plain": [
       "<Figure size 640x480 with 1 Axes>"
      ]
     },
     "metadata": {},
     "output_type": "display_data"
    }
   ],
   "source": [
    "sns.boxplot(data=df, y='Arrival Delay in Minutes')"
   ]
  },
  {
   "cell_type": "code",
   "execution_count": 47,
   "metadata": {},
   "outputs": [
    {
     "data": {
      "text/plain": [
       "0.3904329467565144"
      ]
     },
     "execution_count": 47,
     "metadata": {},
     "output_type": "execute_result"
    }
   ],
   "source": [
    "df['Arrival Delay in Minutes'].isnull().mean() * 100"
   ]
  },
  {
   "cell_type": "code",
   "execution_count": 48,
   "metadata": {},
   "outputs": [],
   "source": [
    "df.dropna(subset=['Arrival Delay in Minutes'], inplace=True)"
   ]
  },
  {
   "cell_type": "markdown",
   "metadata": {},
   "source": [
    "Признаки, которые будут представлены ниже являются числовыми. По смыслу они категориальные: клиент ставил оценку от 1-го до 5-ти включительно. Есть выбросы!"
   ]
  },
  {
   "cell_type": "code",
   "execution_count": 49,
   "metadata": {},
   "outputs": [
    {
     "data": {
      "text/plain": [
       "Inflight wifi service\n",
       "3.0     25710\n",
       "2.0     25671\n",
       "4.0     19665\n",
       "1.0     17731\n",
       "5.0     11398\n",
       "0.0      3092\n",
       "6.0         6\n",
       "21.0        4\n",
       "7.0         3\n",
       "40.0        2\n",
       "16.0        2\n",
       "12.0        2\n",
       "18.0        1\n",
       "20.0        1\n",
       "28.0        1\n",
       "25.0        1\n",
       "45.0        1\n",
       "10.0        1\n",
       "15.0        1\n",
       "Name: count, dtype: int64"
      ]
     },
     "execution_count": 49,
     "metadata": {},
     "output_type": "execute_result"
    }
   ],
   "source": [
    "df['Inflight wifi service'].value_counts()"
   ]
  },
  {
   "cell_type": "markdown",
   "metadata": {},
   "source": [
    "Видим наличие множества выбросов. Заменим выбросы на подходящие значения в допустимом диапазоне. Заменим значения, равные 0, на наименьшее допустимое значение (1), а значения больше 5 на наибольшее допустимое значение (5)."
   ]
  },
  {
   "cell_type": "code",
   "execution_count": 50,
   "metadata": {},
   "outputs": [],
   "source": [
    "df['Inflight wifi service'] = df['Inflight wifi service'].clip(lower=1, upper=5)"
   ]
  },
  {
   "cell_type": "markdown",
   "metadata": {},
   "source": [
    "Пустые значения заменим на среднее."
   ]
  },
  {
   "cell_type": "code",
   "execution_count": 51,
   "metadata": {},
   "outputs": [
    {
     "data": {
      "text/plain": [
       "33"
      ]
     },
     "execution_count": 51,
     "metadata": {},
     "output_type": "execute_result"
    }
   ],
   "source": [
    "df['Inflight wifi service'].isnull().sum()"
   ]
  },
  {
   "cell_type": "code",
   "execution_count": 52,
   "metadata": {},
   "outputs": [],
   "source": [
    "df.dropna(subset='Inflight wifi service', inplace=True)"
   ]
  },
  {
   "cell_type": "markdown",
   "metadata": {},
   "source": [
    "<h4>Departure/Arrival time convenient</h4>"
   ]
  },
  {
   "cell_type": "code",
   "execution_count": 53,
   "metadata": {},
   "outputs": [
    {
     "data": {
      "text/plain": [
       "Departure/Arrival time convenient\n",
       "4.0     25391\n",
       "5.0     22249\n",
       "3.0     17841\n",
       "2.0     17063\n",
       "1.0     15395\n",
       "0.0      5281\n",
       "30.0        4\n",
       "8.0         4\n",
       "12.0        4\n",
       "9.0         4\n",
       "6.0         3\n",
       "20.0        2\n",
       "16.0        2\n",
       "14.0        2\n",
       "45.0        1\n",
       "24.0        1\n",
       "27.0        1\n",
       "35.0        1\n",
       "32.0        1\n",
       "7.0         1\n",
       "10.0        1\n",
       "Name: count, dtype: int64"
      ]
     },
     "execution_count": 53,
     "metadata": {},
     "output_type": "execute_result"
    }
   ],
   "source": [
    "df['Departure/Arrival time convenient'].value_counts()"
   ]
  },
  {
   "cell_type": "code",
   "execution_count": 54,
   "metadata": {},
   "outputs": [],
   "source": [
    "df['Departure/Arrival time convenient'] = df['Departure/Arrival time convenient'].clip(lower=1, upper=5)"
   ]
  },
  {
   "cell_type": "code",
   "execution_count": 55,
   "metadata": {},
   "outputs": [
    {
     "data": {
      "text/plain": [
       "Departure/Arrival time convenient\n",
       "4.0    25391\n",
       "5.0    22281\n",
       "1.0    20676\n",
       "3.0    17841\n",
       "2.0    17063\n",
       "Name: count, dtype: int64"
      ]
     },
     "execution_count": 55,
     "metadata": {},
     "output_type": "execute_result"
    }
   ],
   "source": [
    "df['Departure/Arrival time convenient'].value_counts()"
   ]
  },
  {
   "cell_type": "code",
   "execution_count": 56,
   "metadata": {},
   "outputs": [
    {
     "data": {
      "text/plain": [
       "41"
      ]
     },
     "execution_count": 56,
     "metadata": {},
     "output_type": "execute_result"
    }
   ],
   "source": [
    "df['Departure/Arrival time convenient'].isnull().sum()"
   ]
  },
  {
   "cell_type": "code",
   "execution_count": 57,
   "metadata": {},
   "outputs": [],
   "source": [
    "df.dropna(subset='Departure/Arrival time convenient', inplace=True)"
   ]
  },
  {
   "cell_type": "markdown",
   "metadata": {},
   "source": [
    "<h4>Ease of Online booking</h4>"
   ]
  },
  {
   "cell_type": "code",
   "execution_count": 58,
   "metadata": {},
   "outputs": [
    {
     "data": {
      "text/plain": [
       "Ease of Online booking\n",
       "3.0     24291\n",
       "2.0     23873\n",
       "4.0     19416\n",
       "1.0     17398\n",
       "5.0     13758\n",
       "0.0      4460\n",
       "18.0        3\n",
       "8.0         3\n",
       "12.0        3\n",
       "16.0        2\n",
       "10.0        2\n",
       "24.0        2\n",
       "15.0        1\n",
       "14.0        1\n",
       "28.0        1\n",
       "9.0         1\n",
       "21.0        1\n",
       "45.0        1\n",
       "36.0        1\n",
       "20.0        1\n",
       "Name: count, dtype: int64"
      ]
     },
     "execution_count": 58,
     "metadata": {},
     "output_type": "execute_result"
    }
   ],
   "source": [
    "df['Ease of Online booking'].value_counts()"
   ]
  },
  {
   "cell_type": "code",
   "execution_count": 59,
   "metadata": {},
   "outputs": [],
   "source": [
    "df['Ease of Online booking'] = df['Ease of Online booking'].clip(lower=1, upper=5)"
   ]
  },
  {
   "cell_type": "code",
   "execution_count": 60,
   "metadata": {},
   "outputs": [
    {
     "data": {
      "text/plain": [
       "33"
      ]
     },
     "execution_count": 60,
     "metadata": {},
     "output_type": "execute_result"
    }
   ],
   "source": [
    "df['Ease of Online booking'].isnull().sum()"
   ]
  },
  {
   "cell_type": "code",
   "execution_count": 61,
   "metadata": {},
   "outputs": [],
   "source": [
    "df.dropna(subset='Ease of Online booking', inplace=True)"
   ]
  },
  {
   "cell_type": "markdown",
   "metadata": {},
   "source": [
    "<h4>Gate location</h4>"
   ]
  },
  {
   "cell_type": "code",
   "execution_count": 62,
   "metadata": {},
   "outputs": [
    {
     "data": {
      "text/plain": [
       "Gate location\n",
       "3.0     28365\n",
       "4.0     24263\n",
       "2.0     19317\n",
       "1.0     17431\n",
       "5.0     13781\n",
       "8.0         6\n",
       "6.0         4\n",
       "12.0        3\n",
       "32.0        3\n",
       "9.0         3\n",
       "15.0        3\n",
       "28.0        2\n",
       "27.0        2\n",
       "0.0         1\n",
       "10.0        1\n",
       "14.0        1\n",
       "21.0        1\n",
       "30.0        1\n",
       "36.0        1\n",
       "Name: count, dtype: int64"
      ]
     },
     "execution_count": 62,
     "metadata": {},
     "output_type": "execute_result"
    }
   ],
   "source": [
    "df['Gate location'].value_counts()"
   ]
  },
  {
   "cell_type": "code",
   "execution_count": 63,
   "metadata": {},
   "outputs": [],
   "source": [
    "df['Gate location'] = df['Gate location'].clip(lower=1, upper=5)"
   ]
  },
  {
   "cell_type": "code",
   "execution_count": 64,
   "metadata": {},
   "outputs": [
    {
     "data": {
      "text/plain": [
       "Gate location\n",
       "3.0    28365\n",
       "4.0    24263\n",
       "2.0    19317\n",
       "1.0    17432\n",
       "5.0    13812\n",
       "Name: count, dtype: int64"
      ]
     },
     "execution_count": 64,
     "metadata": {},
     "output_type": "execute_result"
    }
   ],
   "source": [
    "df['Gate location'].value_counts()"
   ]
  },
  {
   "cell_type": "code",
   "execution_count": 65,
   "metadata": {},
   "outputs": [
    {
     "data": {
      "text/plain": [
       "30"
      ]
     },
     "execution_count": 65,
     "metadata": {},
     "output_type": "execute_result"
    }
   ],
   "source": [
    "df['Gate location'].isnull().sum()"
   ]
  },
  {
   "cell_type": "code",
   "execution_count": 66,
   "metadata": {},
   "outputs": [],
   "source": [
    "df.dropna(subset='Gate location', inplace=True)"
   ]
  },
  {
   "cell_type": "markdown",
   "metadata": {},
   "source": [
    "<h4>Food and drink</h4>"
   ]
  },
  {
   "cell_type": "code",
   "execution_count": 67,
   "metadata": {},
   "outputs": [
    {
     "data": {
      "text/plain": [
       "Food and drink\n",
       "4.0     24183\n",
       "3.0     22148\n",
       "5.0     22142\n",
       "2.0     21816\n",
       "1.0     12737\n",
       "0.0       110\n",
       "8.0         3\n",
       "9.0         3\n",
       "16.0        2\n",
       "35.0        1\n",
       "12.0        1\n",
       "7.0         1\n",
       "36.0        1\n",
       "45.0        1\n",
       "24.0        1\n",
       "27.0        1\n",
       "18.0        1\n",
       "32.0        1\n",
       "10.0        1\n",
       "6.0         1\n",
       "Name: count, dtype: int64"
      ]
     },
     "execution_count": 67,
     "metadata": {},
     "output_type": "execute_result"
    }
   ],
   "source": [
    "df['Food and drink'].value_counts()"
   ]
  },
  {
   "cell_type": "code",
   "execution_count": 68,
   "metadata": {},
   "outputs": [],
   "source": [
    "df['Food and drink'] = df['Food and drink'].clip(lower=1, upper=5)"
   ]
  },
  {
   "cell_type": "code",
   "execution_count": 69,
   "metadata": {},
   "outputs": [
    {
     "data": {
      "text/plain": [
       "34"
      ]
     },
     "execution_count": 69,
     "metadata": {},
     "output_type": "execute_result"
    }
   ],
   "source": [
    "df['Food and drink'].isnull().sum()"
   ]
  },
  {
   "cell_type": "code",
   "execution_count": 70,
   "metadata": {},
   "outputs": [],
   "source": [
    "df.dropna(subset='Food and drink', inplace=True)"
   ]
  },
  {
   "cell_type": "markdown",
   "metadata": {},
   "source": [
    "<h4>Online boarding</h4>"
   ]
  },
  {
   "cell_type": "code",
   "execution_count": 71,
   "metadata": {},
   "outputs": [
    {
     "data": {
      "text/plain": [
       "Online boarding\n",
       "4.0     30494\n",
       "3.0     21655\n",
       "5.0     20540\n",
       "2.0     17379\n",
       "1.0     10608\n",
       "0.0      2412\n",
       "20.0        5\n",
       "24.0        4\n",
       "27.0        2\n",
       "15.0        2\n",
       "30.0        2\n",
       "10.0        2\n",
       "6.0         2\n",
       "28.0        2\n",
       "8.0         2\n",
       "12.0        2\n",
       "16.0        2\n",
       "32.0        1\n",
       "21.0        1\n",
       "40.0        1\n",
       "Name: count, dtype: int64"
      ]
     },
     "execution_count": 71,
     "metadata": {},
     "output_type": "execute_result"
    }
   ],
   "source": [
    "df['Online boarding'].value_counts()"
   ]
  },
  {
   "cell_type": "code",
   "execution_count": 72,
   "metadata": {},
   "outputs": [],
   "source": [
    "df['Online boarding'] = df['Online boarding'].clip(lower=1, upper=5)"
   ]
  },
  {
   "cell_type": "code",
   "execution_count": 73,
   "metadata": {},
   "outputs": [
    {
     "data": {
      "text/plain": [
       "Online boarding\n",
       "4.0    30494\n",
       "3.0    21655\n",
       "5.0    20570\n",
       "2.0    17379\n",
       "1.0    13020\n",
       "Name: count, dtype: int64"
      ]
     },
     "execution_count": 73,
     "metadata": {},
     "output_type": "execute_result"
    }
   ],
   "source": [
    "df['Online boarding'].value_counts()"
   ]
  },
  {
   "cell_type": "code",
   "execution_count": 74,
   "metadata": {},
   "outputs": [
    {
     "data": {
      "text/plain": [
       "37"
      ]
     },
     "execution_count": 74,
     "metadata": {},
     "output_type": "execute_result"
    }
   ],
   "source": [
    "df['Online boarding'].isnull().sum()"
   ]
  },
  {
   "cell_type": "code",
   "execution_count": 75,
   "metadata": {},
   "outputs": [],
   "source": [
    "df.dropna(subset='Online boarding', inplace=True)"
   ]
  },
  {
   "cell_type": "markdown",
   "metadata": {},
   "source": [
    "<h4>Seat comfort</h4> "
   ]
  },
  {
   "cell_type": "code",
   "execution_count": 76,
   "metadata": {},
   "outputs": [
    {
     "data": {
      "text/plain": [
       "Seat comfort\n",
       "4.0     31517\n",
       "5.0     26248\n",
       "3.0     18536\n",
       "2.0     14774\n",
       "1.0     11970\n",
       "0.0         4\n",
       "16.0        3\n",
       "24.0        3\n",
       "8.0         3\n",
       "6.0         3\n",
       "36.0        2\n",
       "20.0        2\n",
       "14.0        2\n",
       "12.0        2\n",
       "10.0        2\n",
       "15.0        2\n",
       "18.0        1\n",
       "27.0        1\n",
       "9.0         1\n",
       "30.0        1\n",
       "45.0        1\n",
       "Name: count, dtype: int64"
      ]
     },
     "execution_count": 76,
     "metadata": {},
     "output_type": "execute_result"
    }
   ],
   "source": [
    "df['Seat comfort'].value_counts()"
   ]
  },
  {
   "cell_type": "code",
   "execution_count": 77,
   "metadata": {},
   "outputs": [],
   "source": [
    "df['Seat comfort'] = df['Seat comfort'].clip(lower=1, upper=5)"
   ]
  },
  {
   "cell_type": "code",
   "execution_count": 78,
   "metadata": {},
   "outputs": [
    {
     "data": {
      "text/plain": [
       "Seat comfort\n",
       "4.0    31517\n",
       "5.0    26277\n",
       "3.0    18536\n",
       "2.0    14774\n",
       "1.0    11974\n",
       "Name: count, dtype: int64"
      ]
     },
     "execution_count": 78,
     "metadata": {},
     "output_type": "execute_result"
    }
   ],
   "source": [
    "df['Seat comfort'].value_counts()"
   ]
  },
  {
   "cell_type": "code",
   "execution_count": 79,
   "metadata": {},
   "outputs": [
    {
     "data": {
      "text/plain": [
       "40"
      ]
     },
     "execution_count": 79,
     "metadata": {},
     "output_type": "execute_result"
    }
   ],
   "source": [
    "df['Seat comfort'].isnull().sum()"
   ]
  },
  {
   "cell_type": "code",
   "execution_count": 80,
   "metadata": {},
   "outputs": [],
   "source": [
    "df.dropna(subset='Seat comfort', inplace=True)"
   ]
  },
  {
   "cell_type": "markdown",
   "metadata": {},
   "source": [
    "<h4>Inflight entertainment</h4>"
   ]
  },
  {
   "cell_type": "code",
   "execution_count": 81,
   "metadata": {},
   "outputs": [
    {
     "data": {
      "text/plain": [
       "Inflight entertainment\n",
       "4.0     29162\n",
       "5.0     25018\n",
       "3.0     18973\n",
       "2.0     17475\n",
       "1.0     12368\n",
       "0.0        18\n",
       "20.0        3\n",
       "16.0        2\n",
       "8.0         2\n",
       "6.0         2\n",
       "12.0        2\n",
       "40.0        2\n",
       "18.0        1\n",
       "9.0         1\n",
       "7.0         1\n",
       "36.0        1\n",
       "25.0        1\n",
       "35.0        1\n",
       "32.0        1\n",
       "Name: count, dtype: int64"
      ]
     },
     "execution_count": 81,
     "metadata": {},
     "output_type": "execute_result"
    }
   ],
   "source": [
    "df['Inflight entertainment'].value_counts()"
   ]
  },
  {
   "cell_type": "code",
   "execution_count": 82,
   "metadata": {},
   "outputs": [],
   "source": [
    "df['Inflight entertainment'] = df['Inflight entertainment'].clip(lower=1, upper=5)"
   ]
  },
  {
   "cell_type": "code",
   "execution_count": 83,
   "metadata": {},
   "outputs": [
    {
     "data": {
      "text/plain": [
       "Inflight entertainment\n",
       "4.0    29162\n",
       "5.0    25038\n",
       "3.0    18973\n",
       "2.0    17475\n",
       "1.0    12386\n",
       "Name: count, dtype: int64"
      ]
     },
     "execution_count": 83,
     "metadata": {},
     "output_type": "execute_result"
    }
   ],
   "source": [
    "df['Inflight entertainment'].value_counts()"
   ]
  },
  {
   "cell_type": "code",
   "execution_count": 84,
   "metadata": {},
   "outputs": [
    {
     "data": {
      "text/plain": [
       "44"
      ]
     },
     "execution_count": 84,
     "metadata": {},
     "output_type": "execute_result"
    }
   ],
   "source": [
    "df['Inflight entertainment'].isnull().sum()"
   ]
  },
  {
   "cell_type": "code",
   "execution_count": 85,
   "metadata": {},
   "outputs": [],
   "source": [
    "df.dropna(subset='Inflight entertainment', inplace=True)"
   ]
  },
  {
   "cell_type": "markdown",
   "metadata": {},
   "source": [
    "<h4>On-board service</h4>"
   ]
  },
  {
   "cell_type": "code",
   "execution_count": 86,
   "metadata": {},
   "outputs": [
    {
     "data": {
      "text/plain": [
       "On-board service\n",
       "4.0     30589\n",
       "5.0     23433\n",
       "3.0     22644\n",
       "2.0     14540\n",
       "1.0     11766\n",
       "0.0         7\n",
       "36.0        3\n",
       "10.0        3\n",
       "12.0        3\n",
       "16.0        2\n",
       "32.0        2\n",
       "20.0        2\n",
       "45.0        2\n",
       "8.0         1\n",
       "24.0        1\n",
       "40.0        1\n",
       "6.0         1\n",
       "28.0        1\n",
       "30.0        1\n",
       "Name: count, dtype: int64"
      ]
     },
     "execution_count": 86,
     "metadata": {},
     "output_type": "execute_result"
    }
   ],
   "source": [
    "df['On-board service'].value_counts()"
   ]
  },
  {
   "cell_type": "code",
   "execution_count": 87,
   "metadata": {},
   "outputs": [],
   "source": [
    "df['On-board service'] = df['On-board service'].clip(lower=1, upper=5)"
   ]
  },
  {
   "cell_type": "code",
   "execution_count": 88,
   "metadata": {},
   "outputs": [
    {
     "data": {
      "text/plain": [
       "On-board service\n",
       "4.0    30589\n",
       "5.0    23456\n",
       "3.0    22644\n",
       "2.0    14540\n",
       "1.0    11773\n",
       "Name: count, dtype: int64"
      ]
     },
     "execution_count": 88,
     "metadata": {},
     "output_type": "execute_result"
    }
   ],
   "source": [
    "df['On-board service'].value_counts()"
   ]
  },
  {
   "cell_type": "code",
   "execution_count": 89,
   "metadata": {},
   "outputs": [
    {
     "data": {
      "text/plain": [
       "32"
      ]
     },
     "execution_count": 89,
     "metadata": {},
     "output_type": "execute_result"
    }
   ],
   "source": [
    "df['On-board service'].isnull().sum()"
   ]
  },
  {
   "cell_type": "code",
   "execution_count": 90,
   "metadata": {},
   "outputs": [],
   "source": [
    "df.dropna(subset='On-board service', inplace=True)"
   ]
  },
  {
   "cell_type": "markdown",
   "metadata": {},
   "source": [
    "<h4>Leg room service</h4>"
   ]
  },
  {
   "cell_type": "code",
   "execution_count": 91,
   "metadata": {},
   "outputs": [
    {
     "data": {
      "text/plain": [
       "Leg room service\n",
       "4.0     28512\n",
       "5.0     24430\n",
       "3.0     19916\n",
       "2.0     19355\n",
       "1.0     10246\n",
       "0.0       471\n",
       "15.0        5\n",
       "32.0        3\n",
       "10.0        3\n",
       "30.0        3\n",
       "25.0        3\n",
       "18.0        2\n",
       "14.0        2\n",
       "16.0        2\n",
       "20.0        2\n",
       "35.0        2\n",
       "6.0         2\n",
       "21.0        1\n",
       "36.0        1\n",
       "24.0        1\n",
       "9.0         1\n",
       "8.0         1\n",
       "40.0        1\n",
       "27.0        1\n",
       "Name: count, dtype: int64"
      ]
     },
     "execution_count": 91,
     "metadata": {},
     "output_type": "execute_result"
    }
   ],
   "source": [
    "df['Leg room service'].value_counts()"
   ]
  },
  {
   "cell_type": "code",
   "execution_count": 92,
   "metadata": {},
   "outputs": [],
   "source": [
    "df['Leg room service'] = df['Leg room service'].clip(lower=1, upper=5)"
   ]
  },
  {
   "cell_type": "code",
   "execution_count": 93,
   "metadata": {},
   "outputs": [
    {
     "data": {
      "text/plain": [
       "Leg room service\n",
       "4.0    28512\n",
       "5.0    24466\n",
       "3.0    19916\n",
       "2.0    19355\n",
       "1.0    10717\n",
       "Name: count, dtype: int64"
      ]
     },
     "execution_count": 93,
     "metadata": {},
     "output_type": "execute_result"
    }
   ],
   "source": [
    "df['Leg room service'].value_counts()"
   ]
  },
  {
   "cell_type": "code",
   "execution_count": 94,
   "metadata": {},
   "outputs": [
    {
     "data": {
      "text/plain": [
       "36"
      ]
     },
     "execution_count": 94,
     "metadata": {},
     "output_type": "execute_result"
    }
   ],
   "source": [
    "df['Leg room service'].isnull().sum()"
   ]
  },
  {
   "cell_type": "code",
   "execution_count": 95,
   "metadata": {},
   "outputs": [],
   "source": [
    "df.dropna(subset='Leg room service', inplace=True)"
   ]
  },
  {
   "cell_type": "markdown",
   "metadata": {},
   "source": [
    "<h4>Baggage handling</h4>"
   ]
  },
  {
   "cell_type": "code",
   "execution_count": 96,
   "metadata": {},
   "outputs": [
    {
     "data": {
      "text/plain": [
       "Baggage handling\n",
       "4.0     37036\n",
       "5.0     26863\n",
       "3.0     20428\n",
       "2.0     11413\n",
       "1.0      7170\n",
       "0.0         4\n",
       "32.0        2\n",
       "20.0        2\n",
       "40.0        2\n",
       "16.0        2\n",
       "27.0        2\n",
       "28.0        2\n",
       "9.0         1\n",
       "14.0        1\n",
       "8.0         1\n",
       "36.0        1\n",
       "25.0        1\n",
       "10.0        1\n",
       "18.0        1\n",
       "30.0        1\n",
       "15.0        1\n",
       "Name: count, dtype: int64"
      ]
     },
     "execution_count": 96,
     "metadata": {},
     "output_type": "execute_result"
    }
   ],
   "source": [
    "df['Baggage handling'].value_counts()"
   ]
  },
  {
   "cell_type": "code",
   "execution_count": 97,
   "metadata": {},
   "outputs": [],
   "source": [
    "df['Baggage handling'] = df['Baggage handling'].clip(lower=1, upper=5)"
   ]
  },
  {
   "cell_type": "code",
   "execution_count": 98,
   "metadata": {},
   "outputs": [
    {
     "data": {
      "text/plain": [
       "31"
      ]
     },
     "execution_count": 98,
     "metadata": {},
     "output_type": "execute_result"
    }
   ],
   "source": [
    "df['Baggage handling'].isnull().sum()"
   ]
  },
  {
   "cell_type": "code",
   "execution_count": 99,
   "metadata": {},
   "outputs": [],
   "source": [
    "df.dropna(subset='Baggage handling', inplace=True)"
   ]
  },
  {
   "cell_type": "markdown",
   "metadata": {},
   "source": [
    "<h4>Checkin service</h4>"
   ]
  },
  {
   "cell_type": "code",
   "execution_count": 100,
   "metadata": {},
   "outputs": [
    {
     "data": {
      "text/plain": [
       "Checkin service\n",
       "4.0     28761\n",
       "3.0     28147\n",
       "5.0     20419\n",
       "2.0     12771\n",
       "1.0     12767\n",
       "8.0         5\n",
       "0.0         5\n",
       "6.0         4\n",
       "28.0        3\n",
       "15.0        3\n",
       "7.0         2\n",
       "45.0        2\n",
       "20.0        2\n",
       "9.0         2\n",
       "10.0        1\n",
       "12.0        1\n",
       "24.0        1\n",
       "21.0        1\n",
       "16.0        1\n",
       "36.0        1\n",
       "14.0        1\n",
       "35.0        1\n",
       "Name: count, dtype: int64"
      ]
     },
     "execution_count": 100,
     "metadata": {},
     "output_type": "execute_result"
    }
   ],
   "source": [
    "df['Checkin service'].value_counts()"
   ]
  },
  {
   "cell_type": "code",
   "execution_count": 101,
   "metadata": {},
   "outputs": [],
   "source": [
    "df['Checkin service'] = df['Checkin service'].clip(lower=1, upper=5)"
   ]
  },
  {
   "cell_type": "code",
   "execution_count": 102,
   "metadata": {},
   "outputs": [
    {
     "data": {
      "text/plain": [
       "Checkin service\n",
       "4.0    28761\n",
       "3.0    28147\n",
       "5.0    20450\n",
       "1.0    12772\n",
       "2.0    12771\n",
       "Name: count, dtype: int64"
      ]
     },
     "execution_count": 102,
     "metadata": {},
     "output_type": "execute_result"
    }
   ],
   "source": [
    "df['Checkin service'].value_counts()"
   ]
  },
  {
   "cell_type": "code",
   "execution_count": 103,
   "metadata": {},
   "outputs": [
    {
     "data": {
      "text/plain": [
       "34"
      ]
     },
     "execution_count": 103,
     "metadata": {},
     "output_type": "execute_result"
    }
   ],
   "source": [
    "df['Checkin service'].isnull().sum()"
   ]
  },
  {
   "cell_type": "code",
   "execution_count": 104,
   "metadata": {},
   "outputs": [],
   "source": [
    "df.dropna(subset='Checkin service', inplace=True)"
   ]
  },
  {
   "cell_type": "markdown",
   "metadata": {},
   "source": [
    "<h4>Inflight service</h4>"
   ]
  },
  {
   "cell_type": "code",
   "execution_count": 105,
   "metadata": {},
   "outputs": [
    {
     "data": {
      "text/plain": [
       "Inflight service\n",
       "4.0     37558\n",
       "5.0     26840\n",
       "3.0     20084\n",
       "2.0     11326\n",
       "1.0      7008\n",
       "12.0        5\n",
       "0.0         4\n",
       "16.0        3\n",
       "8.0         3\n",
       "28.0        3\n",
       "15.0        3\n",
       "9.0         2\n",
       "14.0        2\n",
       "35.0        2\n",
       "25.0        2\n",
       "10.0        2\n",
       "36.0        1\n",
       "30.0        1\n",
       "6.0         1\n",
       "24.0        1\n",
       "21.0        1\n",
       "20.0        1\n",
       "Name: count, dtype: int64"
      ]
     },
     "execution_count": 105,
     "metadata": {},
     "output_type": "execute_result"
    }
   ],
   "source": [
    "df['Inflight service'].value_counts()"
   ]
  },
  {
   "cell_type": "code",
   "execution_count": 106,
   "metadata": {},
   "outputs": [],
   "source": [
    "df['Inflight service'] = df['Inflight service'].clip(lower=1, upper=5)"
   ]
  },
  {
   "cell_type": "code",
   "execution_count": 107,
   "metadata": {},
   "outputs": [
    {
     "data": {
      "text/plain": [
       "48"
      ]
     },
     "execution_count": 107,
     "metadata": {},
     "output_type": "execute_result"
    }
   ],
   "source": [
    "df['Inflight service'].isnull().sum()"
   ]
  },
  {
   "cell_type": "code",
   "execution_count": 108,
   "metadata": {},
   "outputs": [],
   "source": [
    "df.dropna(subset='Inflight service', inplace=True)"
   ]
  },
  {
   "cell_type": "markdown",
   "metadata": {},
   "source": [
    "<h4>Cleanliness</h4>"
   ]
  },
  {
   "cell_type": "code",
   "execution_count": 109,
   "metadata": {},
   "outputs": [
    {
     "data": {
      "text/plain": [
       "Cleanliness\n",
       "4.0     26890\n",
       "3.0     24333\n",
       "5.0     22435\n",
       "2.0     15951\n",
       "1.0     13176\n",
       "0.0        18\n",
       "16.0        2\n",
       "30.0        2\n",
       "15.0        2\n",
       "32.0        2\n",
       "9.0         2\n",
       "6.0         1\n",
       "12.0        1\n",
       "21.0        1\n",
       "18.0        1\n",
       "28.0        1\n",
       "45.0        1\n",
       "7.0         1\n",
       "40.0        1\n",
       "10.0        1\n",
       "Name: count, dtype: int64"
      ]
     },
     "execution_count": 109,
     "metadata": {},
     "output_type": "execute_result"
    }
   ],
   "source": [
    "df['Cleanliness'].value_counts()"
   ]
  },
  {
   "cell_type": "code",
   "execution_count": 110,
   "metadata": {},
   "outputs": [],
   "source": [
    "df['Cleanliness'] = df['Cleanliness'].clip(lower=1, upper=5)"
   ]
  },
  {
   "cell_type": "code",
   "execution_count": 111,
   "metadata": {},
   "outputs": [
    {
     "data": {
      "text/plain": [
       "31"
      ]
     },
     "execution_count": 111,
     "metadata": {},
     "output_type": "execute_result"
    }
   ],
   "source": [
    "df['Cleanliness'].isnull().sum()"
   ]
  },
  {
   "cell_type": "code",
   "execution_count": null,
   "metadata": {},
   "outputs": [],
   "source": [
    "df.dropna(subset='Cleanliness', inplace=True)"
   ]
  },
  {
   "cell_type": "markdown",
   "metadata": {},
   "source": [
    "Посмотрим на наш датасет после всех очисток."
   ]
  },
  {
   "cell_type": "code",
   "execution_count": 115,
   "metadata": {},
   "outputs": [
    {
     "name": "stdout",
     "output_type": "stream",
     "text": [
      "<class 'pandas.core.frame.DataFrame'>\n",
      "Index: 102822 entries, 0 to 129879\n",
      "Data columns (total 24 columns):\n",
      " #   Column                             Non-Null Count   Dtype  \n",
      "---  ------                             --------------   -----  \n",
      " 0   id                                 102822 non-null  int64  \n",
      " 1   Gender                             102822 non-null  object \n",
      " 2   Age                                102822 non-null  float64\n",
      " 3   Customer Type                      102822 non-null  object \n",
      " 4   Type of Travel                     102822 non-null  object \n",
      " 5   Class                              102822 non-null  object \n",
      " 6   Flight Distance                    102822 non-null  float64\n",
      " 7   Departure Delay in Minutes         102822 non-null  float64\n",
      " 8   Arrival Delay in Minutes           102822 non-null  float64\n",
      " 9   Inflight wifi service              102822 non-null  float64\n",
      " 10  Departure/Arrival time convenient  102822 non-null  float64\n",
      " 11  Ease of Online booking             102822 non-null  float64\n",
      " 12  Gate location                      102822 non-null  float64\n",
      " 13  Food and drink                     102822 non-null  float64\n",
      " 14  Online boarding                    102822 non-null  float64\n",
      " 15  Seat comfort                       102822 non-null  float64\n",
      " 16  Inflight entertainment             102822 non-null  float64\n",
      " 17  On-board service                   102822 non-null  float64\n",
      " 18  Leg room service                   102822 non-null  float64\n",
      " 19  Baggage handling                   102822 non-null  float64\n",
      " 20  Checkin service                    102822 non-null  float64\n",
      " 21  Inflight service                   102822 non-null  float64\n",
      " 22  Cleanliness                        102822 non-null  float64\n",
      " 23  satisfaction                       102822 non-null  object \n",
      "dtypes: float64(18), int64(1), object(5)\n",
      "memory usage: 19.6+ MB\n"
     ]
    }
   ],
   "source": [
    "df.info()"
   ]
  },
  {
   "cell_type": "markdown",
   "metadata": {},
   "source": [
    "Разобьем наш датасет на признаки features и целевую переменную target."
   ]
  },
  {
   "cell_type": "code",
   "execution_count": 118,
   "metadata": {},
   "outputs": [],
   "source": [
    "X = df.drop(['satisfaction', 'id'], axis=1)\n",
    "y = df['satisfaction']"
   ]
  },
  {
   "cell_type": "code",
   "execution_count": 119,
   "metadata": {},
   "outputs": [
    {
     "data": {
      "text/html": [
       "<div>\n",
       "<style scoped>\n",
       "    .dataframe tbody tr th:only-of-type {\n",
       "        vertical-align: middle;\n",
       "    }\n",
       "\n",
       "    .dataframe tbody tr th {\n",
       "        vertical-align: top;\n",
       "    }\n",
       "\n",
       "    .dataframe thead th {\n",
       "        text-align: right;\n",
       "    }\n",
       "</style>\n",
       "<table border=\"1\" class=\"dataframe\">\n",
       "  <thead>\n",
       "    <tr style=\"text-align: right;\">\n",
       "      <th></th>\n",
       "      <th>Gender</th>\n",
       "      <th>Age</th>\n",
       "      <th>Customer Type</th>\n",
       "      <th>Type of Travel</th>\n",
       "      <th>Class</th>\n",
       "      <th>Flight Distance</th>\n",
       "      <th>Departure Delay in Minutes</th>\n",
       "      <th>Arrival Delay in Minutes</th>\n",
       "      <th>Inflight wifi service</th>\n",
       "      <th>Departure/Arrival time convenient</th>\n",
       "      <th>Ease of Online booking</th>\n",
       "      <th>Gate location</th>\n",
       "      <th>Food and drink</th>\n",
       "      <th>Online boarding</th>\n",
       "      <th>Seat comfort</th>\n",
       "      <th>Inflight entertainment</th>\n",
       "      <th>On-board service</th>\n",
       "      <th>Leg room service</th>\n",
       "      <th>Baggage handling</th>\n",
       "      <th>Checkin service</th>\n",
       "      <th>Inflight service</th>\n",
       "      <th>Cleanliness</th>\n",
       "    </tr>\n",
       "  </thead>\n",
       "  <tbody>\n",
       "    <tr>\n",
       "      <th>0</th>\n",
       "      <td>Male</td>\n",
       "      <td>48.0</td>\n",
       "      <td>disloyal Customer</td>\n",
       "      <td>Business travel</td>\n",
       "      <td>Business</td>\n",
       "      <td>821.0</td>\n",
       "      <td>2.0</td>\n",
       "      <td>5.0</td>\n",
       "      <td>3.0</td>\n",
       "      <td>3.0</td>\n",
       "      <td>3.0</td>\n",
       "      <td>3.0</td>\n",
       "      <td>5.0</td>\n",
       "      <td>3.0</td>\n",
       "      <td>5.0</td>\n",
       "      <td>5.0</td>\n",
       "      <td>3.0</td>\n",
       "      <td>2.0</td>\n",
       "      <td>5.0</td>\n",
       "      <td>4.0</td>\n",
       "      <td>5.0</td>\n",
       "      <td>5.0</td>\n",
       "    </tr>\n",
       "    <tr>\n",
       "      <th>1</th>\n",
       "      <td>Female</td>\n",
       "      <td>35.0</td>\n",
       "      <td>Loyal Customer</td>\n",
       "      <td>Business travel</td>\n",
       "      <td>Business</td>\n",
       "      <td>821.0</td>\n",
       "      <td>26.0</td>\n",
       "      <td>39.0</td>\n",
       "      <td>2.0</td>\n",
       "      <td>2.0</td>\n",
       "      <td>2.0</td>\n",
       "      <td>2.0</td>\n",
       "      <td>3.0</td>\n",
       "      <td>5.0</td>\n",
       "      <td>4.0</td>\n",
       "      <td>5.0</td>\n",
       "      <td>5.0</td>\n",
       "      <td>5.0</td>\n",
       "      <td>5.0</td>\n",
       "      <td>3.0</td>\n",
       "      <td>5.0</td>\n",
       "      <td>5.0</td>\n",
       "    </tr>\n",
       "    <tr>\n",
       "      <th>2</th>\n",
       "      <td>Male</td>\n",
       "      <td>41.0</td>\n",
       "      <td>Loyal Customer</td>\n",
       "      <td>Business travel</td>\n",
       "      <td>Business</td>\n",
       "      <td>853.0</td>\n",
       "      <td>0.0</td>\n",
       "      <td>0.0</td>\n",
       "      <td>4.0</td>\n",
       "      <td>4.0</td>\n",
       "      <td>4.0</td>\n",
       "      <td>4.0</td>\n",
       "      <td>5.0</td>\n",
       "      <td>5.0</td>\n",
       "      <td>5.0</td>\n",
       "      <td>3.0</td>\n",
       "      <td>3.0</td>\n",
       "      <td>3.0</td>\n",
       "      <td>3.0</td>\n",
       "      <td>4.0</td>\n",
       "      <td>3.0</td>\n",
       "      <td>5.0</td>\n",
       "    </tr>\n",
       "    <tr>\n",
       "      <th>3</th>\n",
       "      <td>Male</td>\n",
       "      <td>50.0</td>\n",
       "      <td>Loyal Customer</td>\n",
       "      <td>Business travel</td>\n",
       "      <td>Business</td>\n",
       "      <td>1905.0</td>\n",
       "      <td>0.0</td>\n",
       "      <td>0.0</td>\n",
       "      <td>2.0</td>\n",
       "      <td>2.0</td>\n",
       "      <td>2.0</td>\n",
       "      <td>2.0</td>\n",
       "      <td>4.0</td>\n",
       "      <td>4.0</td>\n",
       "      <td>5.0</td>\n",
       "      <td>5.0</td>\n",
       "      <td>5.0</td>\n",
       "      <td>5.0</td>\n",
       "      <td>5.0</td>\n",
       "      <td>3.0</td>\n",
       "      <td>5.0</td>\n",
       "      <td>4.0</td>\n",
       "    </tr>\n",
       "    <tr>\n",
       "      <th>4</th>\n",
       "      <td>Female</td>\n",
       "      <td>49.0</td>\n",
       "      <td>Loyal Customer</td>\n",
       "      <td>Business travel</td>\n",
       "      <td>Business</td>\n",
       "      <td>3470.0</td>\n",
       "      <td>0.0</td>\n",
       "      <td>1.0</td>\n",
       "      <td>3.0</td>\n",
       "      <td>3.0</td>\n",
       "      <td>3.0</td>\n",
       "      <td>3.0</td>\n",
       "      <td>4.0</td>\n",
       "      <td>5.0</td>\n",
       "      <td>4.0</td>\n",
       "      <td>3.0</td>\n",
       "      <td>3.0</td>\n",
       "      <td>4.0</td>\n",
       "      <td>3.0</td>\n",
       "      <td>3.0</td>\n",
       "      <td>3.0</td>\n",
       "      <td>5.0</td>\n",
       "    </tr>\n",
       "  </tbody>\n",
       "</table>\n",
       "</div>"
      ],
      "text/plain": [
       "   Gender   Age      Customer Type   Type of Travel     Class  \\\n",
       "0    Male  48.0  disloyal Customer  Business travel  Business   \n",
       "1  Female  35.0     Loyal Customer  Business travel  Business   \n",
       "2    Male  41.0     Loyal Customer  Business travel  Business   \n",
       "3    Male  50.0     Loyal Customer  Business travel  Business   \n",
       "4  Female  49.0     Loyal Customer  Business travel  Business   \n",
       "\n",
       "   Flight Distance  Departure Delay in Minutes  Arrival Delay in Minutes  \\\n",
       "0            821.0                         2.0                       5.0   \n",
       "1            821.0                        26.0                      39.0   \n",
       "2            853.0                         0.0                       0.0   \n",
       "3           1905.0                         0.0                       0.0   \n",
       "4           3470.0                         0.0                       1.0   \n",
       "\n",
       "   Inflight wifi service  Departure/Arrival time convenient  \\\n",
       "0                    3.0                                3.0   \n",
       "1                    2.0                                2.0   \n",
       "2                    4.0                                4.0   \n",
       "3                    2.0                                2.0   \n",
       "4                    3.0                                3.0   \n",
       "\n",
       "   Ease of Online booking  Gate location  Food and drink  Online boarding  \\\n",
       "0                     3.0            3.0             5.0              3.0   \n",
       "1                     2.0            2.0             3.0              5.0   \n",
       "2                     4.0            4.0             5.0              5.0   \n",
       "3                     2.0            2.0             4.0              4.0   \n",
       "4                     3.0            3.0             4.0              5.0   \n",
       "\n",
       "   Seat comfort  Inflight entertainment  On-board service  Leg room service  \\\n",
       "0           5.0                     5.0               3.0               2.0   \n",
       "1           4.0                     5.0               5.0               5.0   \n",
       "2           5.0                     3.0               3.0               3.0   \n",
       "3           5.0                     5.0               5.0               5.0   \n",
       "4           4.0                     3.0               3.0               4.0   \n",
       "\n",
       "   Baggage handling  Checkin service  Inflight service  Cleanliness  \n",
       "0               5.0              4.0               5.0          5.0  \n",
       "1               5.0              3.0               5.0          5.0  \n",
       "2               3.0              4.0               3.0          5.0  \n",
       "3               5.0              3.0               5.0          4.0  \n",
       "4               3.0              3.0               3.0          5.0  "
      ]
     },
     "execution_count": 119,
     "metadata": {},
     "output_type": "execute_result"
    }
   ],
   "source": [
    "X.head()"
   ]
  },
  {
   "cell_type": "code",
   "execution_count": 120,
   "metadata": {},
   "outputs": [
    {
     "data": {
      "text/plain": [
       "0         neutral or dissatisfied\n",
       "1                       satisfied\n",
       "2                       satisfied\n",
       "3                       satisfied\n",
       "4                       satisfied\n",
       "                   ...           \n",
       "129873    neutral or dissatisfied\n",
       "129874    neutral or dissatisfied\n",
       "129877    neutral or dissatisfied\n",
       "129878                  satisfied\n",
       "129879    neutral or dissatisfied\n",
       "Name: satisfaction, Length: 102822, dtype: object"
      ]
     },
     "execution_count": 120,
     "metadata": {},
     "output_type": "execute_result"
    }
   ],
   "source": [
    "y"
   ]
  },
  {
   "cell_type": "markdown",
   "metadata": {},
   "source": [
    "Разобьем данные на тренировочную и тестовую выборки"
   ]
  },
  {
   "cell_type": "code",
   "execution_count": 121,
   "metadata": {},
   "outputs": [
    {
     "data": {
      "text/plain": [
       "((82257, 22), (20565, 22))"
      ]
     },
     "execution_count": 121,
     "metadata": {},
     "output_type": "execute_result"
    }
   ],
   "source": [
    "from sklearn.model_selection import train_test_split\n",
    "\n",
    "X_train, X_test, y_train, y_test = train_test_split(X, y, \n",
    "                                                    test_size=0.2, \n",
    "                                                    random_state=RANDOM_STATE)\n",
    "\n",
    "X_train.shape, X_test.shape"
   ]
  },
  {
   "cell_type": "markdown",
   "metadata": {},
   "source": [
    "Продолжим предобработку признаков для создания и обучения модели (логистической регрессии:\n",
    "\n",
    "* закодируем категориальные признаки\n",
    "* масштабируем числовые признаки)"
   ]
  },
  {
   "cell_type": "code",
   "execution_count": 124,
   "metadata": {},
   "outputs": [],
   "source": [
    "from sklearn.preprocessing import OneHotEncoder\n",
    "from sklearn.compose import ColumnTransformer\n",
    "from sklearn.preprocessing import MinMaxScaler\n",
    "\n",
    "\n",
    "categorical = ['Gender', 'Customer Type', 'Type of Travel', 'Class']\n",
    "numeric_features = [col for col in X_train.columns if col not in categorical]\n",
    "\n",
    "column_transformer = ColumnTransformer([\n",
    "    ('ohe', OneHotEncoder(drop='first', handle_unknown=\"ignore\"), categorical),\n",
    "    ('scaling', MinMaxScaler(), numeric_features)\n",
    "])\n",
    "\n",
    "X_train_transformed = column_transformer.fit_transform(X_train)\n",
    "X_test_transformed = column_transformer.transform(X_test)"
   ]
  },
  {
   "cell_type": "code",
   "execution_count": 125,
   "metadata": {},
   "outputs": [
    {
     "data": {
      "text/plain": [
       "array([[1.  , 0.  , 1.  , ..., 0.75, 0.75, 0.25],\n",
       "       [1.  , 0.  , 1.  , ..., 1.  , 0.75, 1.  ],\n",
       "       [1.  , 1.  , 0.  , ..., 0.  , 1.  , 0.75],\n",
       "       ...,\n",
       "       [0.  , 0.  , 0.  , ..., 0.25, 0.25, 0.  ],\n",
       "       [1.  , 0.  , 1.  , ..., 0.75, 0.75, 1.  ],\n",
       "       [1.  , 0.  , 0.  , ..., 0.25, 0.75, 0.75]])"
      ]
     },
     "execution_count": 125,
     "metadata": {},
     "output_type": "execute_result"
    }
   ],
   "source": [
    "X_train_transformed"
   ]
  },
  {
   "cell_type": "code",
   "execution_count": 126,
   "metadata": {},
   "outputs": [
    {
     "data": {
      "text/html": [
       "<div>\n",
       "<style scoped>\n",
       "    .dataframe tbody tr th:only-of-type {\n",
       "        vertical-align: middle;\n",
       "    }\n",
       "\n",
       "    .dataframe tbody tr th {\n",
       "        vertical-align: top;\n",
       "    }\n",
       "\n",
       "    .dataframe thead th {\n",
       "        text-align: right;\n",
       "    }\n",
       "</style>\n",
       "<table border=\"1\" class=\"dataframe\">\n",
       "  <thead>\n",
       "    <tr style=\"text-align: right;\">\n",
       "      <th></th>\n",
       "      <th>Gender_Male</th>\n",
       "      <th>Customer Type_disloyal Customer</th>\n",
       "      <th>Type of Travel_Personal Travel</th>\n",
       "      <th>Class_Eco</th>\n",
       "      <th>Class_Eco Plus</th>\n",
       "      <th>Age</th>\n",
       "      <th>Flight Distance</th>\n",
       "      <th>Departure Delay in Minutes</th>\n",
       "      <th>Arrival Delay in Minutes</th>\n",
       "      <th>Inflight wifi service</th>\n",
       "      <th>Departure/Arrival time convenient</th>\n",
       "      <th>Ease of Online booking</th>\n",
       "      <th>Gate location</th>\n",
       "      <th>Food and drink</th>\n",
       "      <th>Online boarding</th>\n",
       "      <th>Seat comfort</th>\n",
       "      <th>Inflight entertainment</th>\n",
       "      <th>On-board service</th>\n",
       "      <th>Leg room service</th>\n",
       "      <th>Baggage handling</th>\n",
       "      <th>Checkin service</th>\n",
       "      <th>Inflight service</th>\n",
       "      <th>Cleanliness</th>\n",
       "    </tr>\n",
       "  </thead>\n",
       "  <tbody>\n",
       "    <tr>\n",
       "      <th>0</th>\n",
       "      <td>1.0</td>\n",
       "      <td>0.0</td>\n",
       "      <td>1.0</td>\n",
       "      <td>1.0</td>\n",
       "      <td>0.0</td>\n",
       "      <td>0.368932</td>\n",
       "      <td>0.306767</td>\n",
       "      <td>0.001726</td>\n",
       "      <td>0.000000</td>\n",
       "      <td>0.00</td>\n",
       "      <td>1.00</td>\n",
       "      <td>0.00</td>\n",
       "      <td>0.50</td>\n",
       "      <td>0.25</td>\n",
       "      <td>0.0</td>\n",
       "      <td>0.25</td>\n",
       "      <td>0.25</td>\n",
       "      <td>0.75</td>\n",
       "      <td>0.50</td>\n",
       "      <td>0.75</td>\n",
       "      <td>0.75</td>\n",
       "      <td>0.75</td>\n",
       "      <td>0.25</td>\n",
       "    </tr>\n",
       "    <tr>\n",
       "      <th>1</th>\n",
       "      <td>1.0</td>\n",
       "      <td>0.0</td>\n",
       "      <td>1.0</td>\n",
       "      <td>1.0</td>\n",
       "      <td>0.0</td>\n",
       "      <td>0.524272</td>\n",
       "      <td>0.698315</td>\n",
       "      <td>0.000000</td>\n",
       "      <td>0.003070</td>\n",
       "      <td>0.25</td>\n",
       "      <td>0.75</td>\n",
       "      <td>0.25</td>\n",
       "      <td>0.25</td>\n",
       "      <td>0.25</td>\n",
       "      <td>1.0</td>\n",
       "      <td>1.00</td>\n",
       "      <td>0.25</td>\n",
       "      <td>0.50</td>\n",
       "      <td>0.50</td>\n",
       "      <td>0.00</td>\n",
       "      <td>1.00</td>\n",
       "      <td>0.75</td>\n",
       "      <td>1.00</td>\n",
       "    </tr>\n",
       "    <tr>\n",
       "      <th>2</th>\n",
       "      <td>1.0</td>\n",
       "      <td>1.0</td>\n",
       "      <td>0.0</td>\n",
       "      <td>1.0</td>\n",
       "      <td>0.0</td>\n",
       "      <td>0.194175</td>\n",
       "      <td>0.146028</td>\n",
       "      <td>0.000000</td>\n",
       "      <td>0.000000</td>\n",
       "      <td>0.00</td>\n",
       "      <td>0.00</td>\n",
       "      <td>0.00</td>\n",
       "      <td>0.75</td>\n",
       "      <td>0.75</td>\n",
       "      <td>0.0</td>\n",
       "      <td>0.75</td>\n",
       "      <td>0.75</td>\n",
       "      <td>1.00</td>\n",
       "      <td>1.00</td>\n",
       "      <td>0.25</td>\n",
       "      <td>0.00</td>\n",
       "      <td>1.00</td>\n",
       "      <td>0.75</td>\n",
       "    </tr>\n",
       "    <tr>\n",
       "      <th>3</th>\n",
       "      <td>0.0</td>\n",
       "      <td>0.0</td>\n",
       "      <td>0.0</td>\n",
       "      <td>0.0</td>\n",
       "      <td>0.0</td>\n",
       "      <td>0.417476</td>\n",
       "      <td>0.810645</td>\n",
       "      <td>0.000091</td>\n",
       "      <td>0.001142</td>\n",
       "      <td>0.00</td>\n",
       "      <td>0.00</td>\n",
       "      <td>0.00</td>\n",
       "      <td>0.00</td>\n",
       "      <td>0.25</td>\n",
       "      <td>1.0</td>\n",
       "      <td>0.75</td>\n",
       "      <td>0.75</td>\n",
       "      <td>0.75</td>\n",
       "      <td>0.75</td>\n",
       "      <td>0.75</td>\n",
       "      <td>0.75</td>\n",
       "      <td>0.75</td>\n",
       "      <td>0.50</td>\n",
       "    </tr>\n",
       "    <tr>\n",
       "      <th>4</th>\n",
       "      <td>0.0</td>\n",
       "      <td>0.0</td>\n",
       "      <td>0.0</td>\n",
       "      <td>0.0</td>\n",
       "      <td>0.0</td>\n",
       "      <td>0.223301</td>\n",
       "      <td>0.354805</td>\n",
       "      <td>0.000000</td>\n",
       "      <td>0.000000</td>\n",
       "      <td>0.50</td>\n",
       "      <td>0.50</td>\n",
       "      <td>0.50</td>\n",
       "      <td>0.50</td>\n",
       "      <td>1.00</td>\n",
       "      <td>1.0</td>\n",
       "      <td>1.00</td>\n",
       "      <td>1.00</td>\n",
       "      <td>0.50</td>\n",
       "      <td>0.50</td>\n",
       "      <td>0.75</td>\n",
       "      <td>1.00</td>\n",
       "      <td>0.75</td>\n",
       "      <td>1.00</td>\n",
       "    </tr>\n",
       "  </tbody>\n",
       "</table>\n",
       "</div>"
      ],
      "text/plain": [
       "   Gender_Male  Customer Type_disloyal Customer  \\\n",
       "0          1.0                              0.0   \n",
       "1          1.0                              0.0   \n",
       "2          1.0                              1.0   \n",
       "3          0.0                              0.0   \n",
       "4          0.0                              0.0   \n",
       "\n",
       "   Type of Travel_Personal Travel  Class_Eco  Class_Eco Plus       Age  \\\n",
       "0                             1.0        1.0             0.0  0.368932   \n",
       "1                             1.0        1.0             0.0  0.524272   \n",
       "2                             0.0        1.0             0.0  0.194175   \n",
       "3                             0.0        0.0             0.0  0.417476   \n",
       "4                             0.0        0.0             0.0  0.223301   \n",
       "\n",
       "   Flight Distance  Departure Delay in Minutes  Arrival Delay in Minutes  \\\n",
       "0         0.306767                    0.001726                  0.000000   \n",
       "1         0.698315                    0.000000                  0.003070   \n",
       "2         0.146028                    0.000000                  0.000000   \n",
       "3         0.810645                    0.000091                  0.001142   \n",
       "4         0.354805                    0.000000                  0.000000   \n",
       "\n",
       "   Inflight wifi service  Departure/Arrival time convenient  \\\n",
       "0                   0.00                               1.00   \n",
       "1                   0.25                               0.75   \n",
       "2                   0.00                               0.00   \n",
       "3                   0.00                               0.00   \n",
       "4                   0.50                               0.50   \n",
       "\n",
       "   Ease of Online booking  Gate location  Food and drink  Online boarding  \\\n",
       "0                    0.00           0.50            0.25              0.0   \n",
       "1                    0.25           0.25            0.25              1.0   \n",
       "2                    0.00           0.75            0.75              0.0   \n",
       "3                    0.00           0.00            0.25              1.0   \n",
       "4                    0.50           0.50            1.00              1.0   \n",
       "\n",
       "   Seat comfort  Inflight entertainment  On-board service  Leg room service  \\\n",
       "0          0.25                    0.25              0.75              0.50   \n",
       "1          1.00                    0.25              0.50              0.50   \n",
       "2          0.75                    0.75              1.00              1.00   \n",
       "3          0.75                    0.75              0.75              0.75   \n",
       "4          1.00                    1.00              0.50              0.50   \n",
       "\n",
       "   Baggage handling  Checkin service  Inflight service  Cleanliness  \n",
       "0              0.75             0.75              0.75         0.25  \n",
       "1              0.00             1.00              0.75         1.00  \n",
       "2              0.25             0.00              1.00         0.75  \n",
       "3              0.75             0.75              0.75         0.50  \n",
       "4              0.75             1.00              0.75         1.00  "
      ]
     },
     "execution_count": 126,
     "metadata": {},
     "output_type": "execute_result"
    }
   ],
   "source": [
    "lst = list(column_transformer.transformers_[0][1].get_feature_names_out())\n",
    "lst.extend(numeric_features)\n",
    "\n",
    "X_train_transformed = pd.DataFrame(X_train_transformed, columns=lst)\n",
    "X_test_transformed = pd.DataFrame(X_test_transformed, columns=lst)\n",
    "\n",
    "X_train_transformed.head()"
   ]
  },
  {
   "cell_type": "markdown",
   "metadata": {},
   "source": [
    "Создадим и обучим модель (логистическую регрессию) для классификации"
   ]
  },
  {
   "cell_type": "code",
   "execution_count": 150,
   "metadata": {},
   "outputs": [
    {
     "data": {
      "text/plain": [
       "array(['satisfied', 'satisfied', 'neutral or dissatisfied', ...,\n",
       "       'neutral or dissatisfied', 'neutral or dissatisfied',\n",
       "       'neutral or dissatisfied'], dtype=object)"
      ]
     },
     "execution_count": 150,
     "metadata": {},
     "output_type": "execute_result"
    }
   ],
   "source": [
    "from sklearn.linear_model import LogisticRegression\n",
    "\n",
    "model = LogisticRegression()\n",
    "\n",
    "model.fit(X_train_transformed, y_train)\n",
    "\n",
    "model.predict(X_test_transformed)"
   ]
  },
  {
   "cell_type": "markdown",
   "metadata": {},
   "source": [
    "Для нашей задачи обучения наиболее важной задачей может быть предсказание недовольных клиентов. Это связано с тем, что недовольные клиенты могут иметь отрицательное влияние на бизнес компании. Они могут оставлять негативные отзывы, снижать рейтинг компании, уходить к конкурентам и т.д. Поэтому, предсказание неудовлетворенных клиентов с высокой точностью позволяет компании принять меры для улучшения их опыта и предотвращения потенциальных негативных последствий."
   ]
  },
  {
   "cell_type": "markdown",
   "metadata": {},
   "source": [
    "Посмотрим на матрицу ошибок (confusion matrix) для оценивания результата модели. "
   ]
  },
  {
   "cell_type": "code",
   "execution_count": 151,
   "metadata": {},
   "outputs": [
    {
     "data": {
      "text/plain": [
       "array([[10552,  1113],\n",
       "       [ 1328,  7572]], dtype=int64)"
      ]
     },
     "execution_count": 151,
     "metadata": {},
     "output_type": "execute_result"
    }
   ],
   "source": [
    "from sklearn.metrics import confusion_matrix\n",
    "\n",
    "confusion_matrix(y_test, pred)"
   ]
  },
  {
   "cell_type": "markdown",
   "metadata": {},
   "source": [
    "На основе матрицы ошибок можно сделать следующие выводы:\n",
    "\n",
    "- True Positive (TP): 7572 - количество правильно классифицированных положительных примеров (клиентов, которые действительно удовлетворены полетом).\n",
    "- False Positive (FP): 1113 - количество неправильно классифицированных положительных примеров (клиентов, которые были неправильно предсказаны как удовлетворенные).\n",
    "- False Negative (FN): 1328 - количество неправильно классифицированных отрицательных примеров (клиентов, которые были неправильно предсказаны как недовольные).\n",
    "- True Negative (TN): 10552 - количество правильно классифицированных отрицательных примеров (клиентов, которые действительно недовольны полетом)."
   ]
  },
  {
   "cell_type": "markdown",
   "metadata": {},
   "source": [
    "Посмотрим также на другие метрики для оценки модели"
   ]
  },
  {
   "cell_type": "markdown",
   "metadata": {},
   "source": [
    "<h4>Accuracy</h4>\n",
    "\n",
    "Доля правильно классифицированных примеров от общего числа примеров. Эта метрика показывает, насколько точно модель предсказывает удовлетворение или неудовлетворение клиента"
   ]
  },
  {
   "cell_type": "code",
   "execution_count": 152,
   "metadata": {},
   "outputs": [
    {
     "data": {
      "text/plain": [
       "0.8813031850230975"
      ]
     },
     "execution_count": 152,
     "metadata": {},
     "output_type": "execute_result"
    }
   ],
   "source": [
    "from sklearn.metrics import accuracy_score\n",
    "\n",
    "accuracy_score(y_test, pred)"
   ]
  },
  {
   "cell_type": "markdown",
   "metadata": {},
   "source": [
    "Доля правильно предсказанных неудовлетворенных клиентов среди всех предсказанных неудовлетворенных клиентов. "
   ]
  },
  {
   "cell_type": "code",
   "execution_count": 153,
   "metadata": {},
   "outputs": [
    {
     "data": {
      "text/plain": [
       "0.8882154882154882"
      ]
     },
     "execution_count": 153,
     "metadata": {},
     "output_type": "execute_result"
    }
   ],
   "source": [
    "from sklearn.metrics import precision_score\n",
    "\n",
    "precision_score(y_test, pred, pos_label='neutral or dissatisfied')"
   ]
  },
  {
   "cell_type": "markdown",
   "metadata": {},
   "source": [
    "Доля правильно предсказанных неудовлетворенных клиентов среди всех действительно неудовлетворенных клиентов. "
   ]
  },
  {
   "cell_type": "code",
   "execution_count": 154,
   "metadata": {},
   "outputs": [
    {
     "data": {
      "text/plain": [
       "0.9045863694813545"
      ]
     },
     "execution_count": 154,
     "metadata": {},
     "output_type": "execute_result"
    }
   ],
   "source": [
    "from sklearn.metrics import recall_score\n",
    "\n",
    "recall_score(y_test, pred, pos_label='neutral or dissatisfied')"
   ]
  },
  {
   "cell_type": "markdown",
   "metadata": {},
   "source": [
    "<h3>Оценка важности признаков</h3>\n"
   ]
  },
  {
   "cell_type": "code",
   "execution_count": null,
   "metadata": {},
   "outputs": [],
   "source": []
  },
  {
   "cell_type": "code",
   "execution_count": null,
   "metadata": {},
   "outputs": [],
   "source": []
  },
  {
   "cell_type": "code",
   "execution_count": null,
   "metadata": {},
   "outputs": [],
   "source": []
  },
  {
   "cell_type": "code",
   "execution_count": null,
   "metadata": {},
   "outputs": [],
   "source": []
  },
  {
   "cell_type": "code",
   "execution_count": null,
   "metadata": {},
   "outputs": [],
   "source": []
  },
  {
   "cell_type": "code",
   "execution_count": null,
   "metadata": {},
   "outputs": [],
   "source": []
  },
  {
   "cell_type": "code",
   "execution_count": null,
   "metadata": {},
   "outputs": [],
   "source": []
  },
  {
   "cell_type": "markdown",
   "metadata": {},
   "source": [
    "Применим метод масштабирования к столбцам с данными о возрасте, дальности полета и продолжительности задержек."
   ]
  },
  {
   "cell_type": "code",
   "execution_count": null,
   "metadata": {},
   "outputs": [],
   "source": [
    "X = df.drop('satisfaction', axis=1)\n",
    "y = df['satisfaction']"
   ]
  },
  {
   "cell_type": "code",
   "execution_count": null,
   "metadata": {},
   "outputs": [],
   "source": [
    "from sklearn.preprocessing import StandardScaler\n",
    "from sklearn.compose import ColumnTransformer\n",
    "from sklearn.model_selection import train_test_split\n",
    "\n",
    "\n",
    "# # Определение столбцов, требующих масштабирования\n",
    "# columns_to_scale = ['Age', 'Flight Distance', 'Departure Delay in Minutes', 'Arrival Delay in Minutes']\n",
    "\n",
    "# # Создание объекта StandardScaler\n",
    "# scaler = StandardScaler()\n",
    "\n",
    "# # Создание ColumnTransformer с применением масштабирования только к указанным столбцам\n",
    "# preprocessor = ColumnTransformer(\n",
    "#     transformers=[('num', scaler, columns_to_scale)])\n",
    "\n",
    "# # Масштабирование указанных столбцов на всем наборе данных\n",
    "# X_scaled = preprocessor.fit_transform(X)\n",
    "\n",
    "# Разделение выборки на тренировочную и тестовую\n",
    "X_train, X_test, y_train, y_test = train_test_split(X, y, \n",
    "                                                    test_size=0.2, \n",
    "                                                    random_state=42)"
   ]
  },
  {
   "cell_type": "code",
   "execution_count": null,
   "metadata": {},
   "outputs": [],
   "source": [
    "from sklearn.metrics import classification_report\n",
    "from sklearn.linear_model import LogisticRegression\n",
    "\n",
    "\n",
    "model = LogisticRegression()\n",
    "model.fit(X_train, y_train)\n",
    "\n",
    "y_pred = model.predict(X_test)\n",
    "\n",
    "print(classification_report(y_test, y_pred))"
   ]
  },
  {
   "cell_type": "code",
   "execution_count": null,
   "metadata": {},
   "outputs": [],
   "source": [
    "from sklearn.metrics import accuracy_score\n",
    "accuracy = accuracy_score(y_test, y_pred)\n",
    "print(\"Accuracy:\", accuracy)"
   ]
  },
  {
   "cell_type": "code",
   "execution_count": null,
   "metadata": {},
   "outputs": [],
   "source": [
    "from sklearn.ensemble import RandomForestClassifier\n",
    "from sklearn.metrics import classification_report\n",
    "\n",
    "X = df.drop('satisfaction', axis=1)\n",
    "y = df['satisfaction']\n",
    "\n",
    "X_train, X_test, y_train, y_test = train_test_split(X, y, \n",
    "                                                    test_size=0.2, \n",
    "                                                    random_state=42)"
   ]
  },
  {
   "cell_type": "code",
   "execution_count": null,
   "metadata": {},
   "outputs": [],
   "source": [
    "from sklearn.ensemble import RandomForestClassifier\n",
    "from sklearn.model_selection import GridSearchCV\n",
    "from sklearn.metrics import classification_report\n",
    "\n",
    "# Создание экземпляра модели Random Forest\n",
    "model = RandomForestClassifier()\n",
    "\n",
    "# Определение сетки гиперпараметров для перебора\n",
    "param_grid = {\n",
    "    'n_estimators': [100, 200, 300],\n",
    "    'max_depth': [None, 5, 10],\n",
    "    'min_samples_split': [2, 5, 10],\n",
    "    'min_samples_leaf': [1, 2, 4]\n",
    "}\n",
    "\n",
    "# Поиск наилучших гиперпараметров с использованием Grid Search и кросс-валидации\n",
    "grid_search = GridSearchCV(model, param_grid, cv=5)\n",
    "grid_search.fit(X_train, y_train)\n",
    "\n",
    "# Получение лучшей модели\n",
    "best_model = grid_search.best_estimator_\n",
    "\n",
    "# Обучение лучшей модели на всем тренировочном наборе данных\n",
    "best_model.fit(X_train, y_train)\n",
    "\n",
    "# Предсказание на тестовом наборе данных\n",
    "y_pred = best_model.predict(X_test)\n",
    "\n",
    "# Оценка точности модели\n",
    "accuracy = best_model.score(X_test, y_test)\n",
    "print(\"Accuracy:\", accuracy)\n",
    "\n",
    "# Вывод отчета по классификации\n",
    "print(classification_report(y_test, y_pred))\n"
   ]
  },
  {
   "cell_type": "code",
   "execution_count": null,
   "metadata": {},
   "outputs": [],
   "source": [
    "accuracy = accuracy_score(y_test, y_pred)\n",
    "print(\"Accuracy:\", accuracy)"
   ]
  },
  {
   "cell_type": "code",
   "execution_count": null,
   "metadata": {},
   "outputs": [],
   "source": []
  }
 ],
 "metadata": {
  "colab": {
   "provenance": []
  },
  "kernelspec": {
   "display_name": "Python 3 (ipykernel)",
   "language": "python",
   "name": "python3"
  },
  "language_info": {
   "codemirror_mode": {
    "name": "ipython",
    "version": 3
   },
   "file_extension": ".py",
   "mimetype": "text/x-python",
   "name": "python",
   "nbconvert_exporter": "python",
   "pygments_lexer": "ipython3",
   "version": "3.11.4"
  }
 },
 "nbformat": 4,
 "nbformat_minor": 1
}
